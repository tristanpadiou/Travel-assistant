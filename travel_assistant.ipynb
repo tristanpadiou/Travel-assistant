{
 "cells": [
  {
   "cell_type": "code",
   "execution_count": null,
   "metadata": {},
   "outputs": [
    {
     "data": {
      "text/plain": [
       "True"
      ]
     },
     "execution_count": 1,
     "metadata": {},
     "output_type": "execute_result"
    }
   ],
   "source": [
    "from maps_agent import Maps_agent\n",
    "from schedule_agent import Schedule_agent\n",
    "from langchain_community.agent_toolkits.load_tools import load_tools\n",
    "from langchain_google_genai import ChatGoogleGenerativeAI\n",
    "from langchain.agents import initialize_agent\n",
    "from langchain.tools import Tool,tool,StructuredTool\n",
    "from langchain.prompts import PromptTemplate\n",
    "from langgraph.graph import StateGraph, START, END\n",
    "from langgraph.graph.message import add_messages\n",
    "from langgraph.prebuilt import ToolNode, tools_condition,InjectedState\n",
    "from langchain_core.messages import (\n",
    "    SystemMessage,\n",
    "    HumanMessage,\n",
    "    AIMessage,\n",
    "    ToolMessage,\n",
    "    RemoveMessage\n",
    ")\n",
    "from langchain_core.output_parsers import JsonOutputParser\n",
    "from langchain.output_parsers import RetryOutputParser\n",
    "\n",
    "from pydantic import BaseModel, Field\n",
    "import pytz\n",
    "from datetime import datetime\n",
    "from langgraph.types import Command, interrupt\n",
    "from langgraph.checkpoint.memory import MemorySaver\n",
    "from langchain_core.tools.base import InjectedToolCallId\n",
    "from typing_extensions import TypedDict\n",
    "from typing import Annotated, Literal\n",
    "#get graph visuals\n",
    "from IPython.display import Image as img, display\n",
    "from langchain_core.runnables.graph import CurveStyle, MermaidDrawMethod, NodeStyles\n",
    "import os\n",
    "import requests\n",
    "from dotenv import load_dotenv \n",
    "import geocoder\n",
    "from PIL import Image\n",
    "import base64\n",
    "import io\n",
    "\n",
    "# gradio\n",
    "import gradio as gr\n",
    "load_dotenv()"
   ]
  },
  {
   "cell_type": "code",
   "execution_count": 2,
   "metadata": {},
   "outputs": [],
   "source": [
    "GOOGLE_API_KEY=os.getenv('google_api_key')\n",
    "pse=os.getenv('pse')\n",
    "OPENWEATHERMAP_API_KEY=os.getenv('open_weather_key')\n",
    "os.environ['OPENWEATHERMAP_API_KEY']=OPENWEATHERMAP_API_KEY"
   ]
  },
  {
   "cell_type": "code",
   "execution_count": 3,
   "metadata": {},
   "outputs": [],
   "source": [
    "GEMINI_MODEL='gemini-2.0-flash'\n",
    "llm = ChatGoogleGenerativeAI(google_api_key=GOOGLE_API_KEY, model=GEMINI_MODEL, temperature=0.3)"
   ]
  },
  {
   "cell_type": "code",
   "execution_count": 4,
   "metadata": {},
   "outputs": [],
   "source": [
    "class State(TypedDict):\n",
    "    messages:Annotated[list, add_messages]"
   ]
  },
  {
   "cell_type": "code",
   "execution_count": 5,
   "metadata": {},
   "outputs": [],
   "source": [
    "maps_ai=Maps_agent(llm)\n",
    "Schedule_ai=Schedule_agent(llm)"
   ]
  },
  {
   "cell_type": "code",
   "execution_count": 6,
   "metadata": {},
   "outputs": [],
   "source": [
    "# extra tools for question answering\n",
    "\n",
    "# initializing time and date tool\n",
    "\n",
    "#creating a schema\n",
    "class time_tool_schema(BaseModel):\n",
    "  continent: str = Field(description='continent')\n",
    "  city: str = Field(description='city')\n",
    "\n",
    "def date_time_tool(continent: str,city: str) -> str:\n",
    "  \"\"\"\n",
    "  tool to get the current date and time in a city.\n",
    "\n",
    "  \"\"\"\n",
    "  city=city.replace(' ','_')\n",
    "  continent=continent.replace(' ','_')\n",
    "  query=continent+'/'+city\n",
    "  timezone = pytz.timezone(query)\n",
    "  # Get the current time in UTC, and then convert it to the Marrakech timezone\n",
    "  utc_now = datetime.now(pytz.utc)  # Get current time in UTC\n",
    "  localized_time = utc_now.astimezone(timezone)  # Convert to Marrakech time\n",
    "  time=localized_time.strftime('%Y-%m-%d %H:%M:%S')\n",
    "  return time\n",
    "\n",
    "current_date_time_tool=StructuredTool.from_function(name='current_date_time_tool', func=date_time_tool, description='To get the current date and time in any city, agrs: city and continent',args_schema=time_tool_schema, return_direct=True)\n",
    "\n",
    "def google_image_search(query: str) -> str:\n",
    "  \"\"\"Search for images using Google Custom Search API\n",
    "  args: query\n",
    "  return: image url\n",
    "  \"\"\"\n",
    "  # Define the API endpoint for Google Custom Search\n",
    "  url = \"https://www.googleapis.com/customsearch/v1\"\n",
    "\n",
    "  params = {\n",
    "      \"q\": query,\n",
    "      \"cx\": pse,\n",
    "      \"key\": GOOGLE_API_KEY,\n",
    "      \"searchType\": \"image\",  # Search for images\n",
    "      \"num\": 1  # Number of results to fetch\n",
    "  }\n",
    "\n",
    "  # Make the request to the Google Custom Search API\n",
    "  response = requests.get(url, params=params)\n",
    "  data = response.json()\n",
    "\n",
    "  # Check if the response contains image results\n",
    "  if 'items' in data:\n",
    "      # Extract the first image result\n",
    "      image_url = data['items'][0]['link']\n",
    "      return image_url\n",
    "  else:\n",
    "      return \"Sorry, no images were found for your query.\"\n",
    "\n",
    "google_image_tool=Tool(name='google_image_tool', func=google_image_search, description='Use this tool to search for images using Google Custom Search API')"
   ]
  },
  {
   "cell_type": "code",
   "execution_count": 7,
   "metadata": {},
   "outputs": [],
   "source": [
    "@tool\n",
    "def get_current_location_tool():\n",
    "    \"\"\"\n",
    "    Tool to get the current location, city&continent of the user.\n",
    "    agrs: none\n",
    "    \"\"\"\n",
    "    current_location = geocoder.ip(\"me\")\n",
    "    if current_location.latlng:\n",
    "        latitude, longitude = current_location.latlng\n",
    "        address = current_location.address\n",
    "        return f'The current location is: address:{address}, longitude:{longitude},lattitude:{latitude}.'\n",
    "    else:\n",
    "        return None"
   ]
  },
  {
   "cell_type": "code",
   "execution_count": 8,
   "metadata": {},
   "outputs": [],
   "source": [
    "@tool\n",
    "def schedule_manager(query:str):\n",
    "    \"\"\"\n",
    "    Use this tool for any schedule related queries\n",
    "    this tool can: \n",
    "    get schadule data to answer questions\n",
    "    make edits to the schedule\n",
    "    create a schedule from chat\n",
    "    save the schedule\n",
    "    args:query - pass the schedule related queries directly here\n",
    "    \"\"\"\n",
    "    response=Schedule_ai.chat(str(query))\n",
    "    return response"
   ]
  },
  {
   "cell_type": "code",
   "execution_count": 9,
   "metadata": {},
   "outputs": [],
   "source": [
    "@tool\n",
    "def maps_tool(query: str):\n",
    "    \"\"\"\n",
    "    Use this tool for any maps or location related queries\n",
    "    all the context is provided in the tool, simply pass the query\n",
    "    this tool can:\n",
    "    find places in a locations\n",
    "    show the places that have been found\n",
    "    args:query - maps or location related queries\n",
    "    \"\"\"\n",
    "    response=maps_ai.chat(str(query))\n",
    "    return response"
   ]
  },
  {
   "cell_type": "code",
   "execution_count": null,
   "metadata": {},
   "outputs": [],
   "source": [
    "class travel_agent:\n",
    "    def __init__(self,llm: any):\n",
    "        self.agent=self._setup(llm)\n",
    "        \n",
    "\n",
    "    def _setup(self,llm):\n",
    "        api_tools=load_tools(['wikipedia'])\n",
    "        langgraph_tools=[current_date_time_tool,google_image_tool,schedule_manager,maps_tool,get_current_location_tool]+api_tools\n",
    "\n",
    "\n",
    "        graph_builder = StateGraph(State)\n",
    "        \n",
    "        # Modification: tell the LLM which tools it can call\n",
    "        llm_with_tools = llm.bind_tools(langgraph_tools)\n",
    "        tool_node = ToolNode(tools=langgraph_tools)\n",
    "        def chatbot(state: State):\n",
    "            \"\"\" travel assistant that answers user questions about their trip.\n",
    "            Depending on the request, leverage which tools to use if necessary.\"\"\"\n",
    "            return {\"messages\": [llm_with_tools.invoke(state['messages'])]}\n",
    "\n",
    "        graph_builder.add_node(\"chatbot\", chatbot)\n",
    "\n",
    "        \n",
    "        graph_builder.add_node(\"tools\", tool_node)\n",
    "        # Any time a tool is called, we return to the chatbot to decide the next step\n",
    "        graph_builder.set_entry_point(\"chatbot\")\n",
    "\n",
    "        graph_builder.add_edge(\"tools\", \"chatbot\")\n",
    "        graph_builder.add_conditional_edges(\n",
    "            \"chatbot\",\n",
    "            tools_condition,\n",
    "        )\n",
    "        memory=MemorySaver()\n",
    "        graph=graph_builder.compile(checkpointer=memory)\n",
    "        return graph\n",
    "    \n",
    "    def display_graph(self):\n",
    "        return display(\n",
    "            img(\n",
    "                    self.agent.get_graph().draw_mermaid_png(\n",
    "                        draw_method=MermaidDrawMethod.API,\n",
    "                    )\n",
    "                )\n",
    "            )\n",
    "    def get_state(self, state_val:str):\n",
    "        config = {\"configurable\": {\"thread_id\": \"1\"}}\n",
    "        return self.agent.get_state(config).values[state_val]\n",
    "    \n",
    "    def stream(self,input:str):\n",
    "        config = {\"configurable\": {\"thread_id\": \"1\"}}\n",
    "        input_message = HumanMessage(content=input)\n",
    "        for event in self.agent.stream({\"messages\": [input_message]}, config, stream_mode=\"values\"):\n",
    "            event[\"messages\"][-1].pretty_print()\n",
    "\n",
    "    def chat(self,input:str):\n",
    "        config = {\"configurable\": {\"thread_id\": \"1\"}}\n",
    "        response=self.agent.invoke({'messages':HumanMessage(content=str(input))},config)\n",
    "        return response['messages'][-1].content\n",
    "    \n",
    "    def update_state(self, data: dict):\n",
    "      config = {\"configurable\": {\"thread_id\": \"1\"}}\n",
    "      return self.agent.update_state(config, data)\n",
    "    \n",
    "    "
   ]
  },
  {
   "cell_type": "code",
   "execution_count": 11,
   "metadata": {},
   "outputs": [],
   "source": [
    "travel_assistant=travel_agent(llm)"
   ]
  },
  {
   "cell_type": "code",
   "execution_count": 12,
   "metadata": {},
   "outputs": [],
   "source": [
    "# travel_assistant.stream('find cool cocktail bars in chelsea nyc ')"
   ]
  },
  {
   "cell_type": "code",
   "execution_count": 13,
   "metadata": {},
   "outputs": [],
   "source": [
    "def chat(input, history):\n",
    "    response=travel_assistant.chat(input)\n",
    "    return response"
   ]
  },
  {
   "cell_type": "code",
   "execution_count": 14,
   "metadata": {},
   "outputs": [],
   "source": [
    "# chat('hello','')"
   ]
  },
  {
   "cell_type": "code",
   "execution_count": 15,
   "metadata": {},
   "outputs": [],
   "source": [
    "import io\n"
   ]
  },
  {
   "cell_type": "code",
   "execution_count": null,
   "metadata": {},
   "outputs": [],
   "source": [
    "def image_processing(image):\n",
    "    img_byte_arr = io.BytesIO()\n",
    "    image.save(img_byte_arr, format='JPEG')\n",
    "    img_byte_arr = img_byte_arr.getvalue()\n",
    "    image_data = base64.b64encode(img_byte_arr).decode(\"utf-8\")\n",
    "    parser=JsonOutputParser()\n",
    "    instruction=parser.get_format_instructions()\n",
    "    message = HumanMessage(\n",
    "    content=[\n",
    "        {\"type\": \"text\", \"text\": f\"turn this image of a schedule into a json\"+'\\n\\n'+ instruction},\n",
    "        {\n",
    "            \"type\": \"image_url\",\n",
    "            \"image_url\": {\"url\": f\"data:image/jpeg;base64,{image_data}\"},\n",
    "        },\n",
    "    ],\n",
    ")\n",
    "    response=llm.invoke([message])\n",
    "    try:\n",
    "        response=parser.parse(response.content)\n",
    "        Schedule_ai.update_state({'trip_data':response})\n",
    "        travel_assistant.update_state({'messages':[AIMessage('Schedule_uploaded')]})\n",
    "    except:\n",
    "        prompt = PromptTemplate(\n",
    "        template=\"Answer the user query.\\n{format_instructions}\\n{query}\\n\",\n",
    "        input_variables=[\"query\"],\n",
    "        partial_variables={\"format_instructions\": parser.get_format_instructions()},\n",
    "        )\n",
    "        retry_parser = RetryOutputParser.from_llm(parser=parser, llm=llm)\n",
    "        prompt_value=prompt.format_prompt(query=\"turn this image of a schedule into a json\")\n",
    "        response=retry_parser.parse_with_prompt(response.content, prompt_value)     \n",
    "        Schedule_ai.update_state({'trip_data':response})\n",
    "        travel_assistant.update_state({'messages':[AIMessage('Schedule_uploaded')]})"
   ]
  },
  {
   "cell_type": "code",
   "execution_count": 17,
   "metadata": {},
   "outputs": [],
   "source": [
    "# demo = gr.ChatInterface(chatbot, type=\"messages\", autofocus=False)\n",
    "\n",
    "# if __name__ == \"__main__\":\n",
    "#     demo.launch()"
   ]
  },
  {
   "cell_type": "code",
   "execution_count": 18,
   "metadata": {},
   "outputs": [
    {
     "ename": "KeyError",
     "evalue": "'node_message'",
     "output_type": "error",
     "traceback": [
      "\u001b[1;31m---------------------------------------------------------------------------\u001b[0m",
      "\u001b[1;31mKeyError\u001b[0m                                  Traceback (most recent call last)",
      "Cell \u001b[1;32mIn[18], line 1\u001b[0m\n\u001b[1;32m----> 1\u001b[0m \u001b[43mSchedule_ai\u001b[49m\u001b[38;5;241;43m.\u001b[39;49m\u001b[43mget_state\u001b[49m\u001b[43m(\u001b[49m\u001b[38;5;124;43m'\u001b[39;49m\u001b[38;5;124;43mnode_message\u001b[39;49m\u001b[38;5;124;43m'\u001b[39;49m\u001b[43m)\u001b[49m\n",
      "File \u001b[1;32mc:\\Users\\padio\\Desktop\\important\\AI portfolio\\Travel-assistant\\schedule_agent.py:199\u001b[0m, in \u001b[0;36mSchedule_agent.get_state\u001b[1;34m(self, state_val)\u001b[0m\n\u001b[0;32m    197\u001b[0m \u001b[38;5;28;01mdef\u001b[39;00m\u001b[38;5;250m \u001b[39m\u001b[38;5;21mget_state\u001b[39m(\u001b[38;5;28mself\u001b[39m, state_val:\u001b[38;5;28mstr\u001b[39m):\n\u001b[0;32m    198\u001b[0m     config \u001b[38;5;241m=\u001b[39m {\u001b[38;5;124m\"\u001b[39m\u001b[38;5;124mconfigurable\u001b[39m\u001b[38;5;124m\"\u001b[39m: {\u001b[38;5;124m\"\u001b[39m\u001b[38;5;124mthread_id\u001b[39m\u001b[38;5;124m\"\u001b[39m: \u001b[38;5;124m\"\u001b[39m\u001b[38;5;124m1\u001b[39m\u001b[38;5;124m\"\u001b[39m}}\n\u001b[1;32m--> 199\u001b[0m     \u001b[38;5;28;01mreturn\u001b[39;00m \u001b[38;5;28;43mself\u001b[39;49m\u001b[38;5;241;43m.\u001b[39;49m\u001b[43magent\u001b[49m\u001b[38;5;241;43m.\u001b[39;49m\u001b[43mget_state\u001b[49m\u001b[43m(\u001b[49m\u001b[43mconfig\u001b[49m\u001b[43m)\u001b[49m\u001b[38;5;241;43m.\u001b[39;49m\u001b[43mvalues\u001b[49m\u001b[43m[\u001b[49m\u001b[43mstate_val\u001b[49m\u001b[43m]\u001b[49m\n",
      "\u001b[1;31mKeyError\u001b[0m: 'node_message'"
     ]
    }
   ],
   "source": [
    "Schedule_ai.get_state('node_message')"
   ]
  },
  {
   "cell_type": "code",
   "execution_count": null,
   "metadata": {},
   "outputs": [
    {
     "data": {
      "text/plain": [
       "[AIMessage(content='Schedule_uploaded', additional_kwargs={}, response_metadata={}, id='97b649d8-7cbe-4cff-a4c2-ac8b0523e733'),\n",
       " HumanMessage(content=\"What's on my schedule for Monday?\", additional_kwargs={}, response_metadata={}, id='a5715fbd-532d-4f30-9a65-0affa62456a8'),\n",
       " AIMessage(content='', additional_kwargs={'function_call': {'name': 'schedule_manager', 'arguments': '{\"query\": \"What\\'s on my schedule for Monday?\"}'}}, response_metadata={'prompt_feedback': {'block_reason': 0, 'safety_ratings': []}, 'finish_reason': 'STOP', 'safety_ratings': []}, id='run-3d126272-14b1-445d-bee1-4d05282854c7-0', tool_calls=[{'name': 'schedule_manager', 'args': {'query': \"What's on my schedule for Monday?\"}, 'id': '76fafeee-8021-4f44-bfca-4a928f5f885b', 'type': 'tool_call'}], usage_metadata={'input_tokens': 250, 'output_tokens': 13, 'total_tokens': 263, 'input_token_details': {'cache_read': 0}}),\n",
       " ToolMessage(content=\"Error: TypeError('llm_nodes.show_schedule_node() takes 1 positional argument but 2 were given')\\n Please fix your mistakes.\", name='schedule_manager', id='8c389c11-6da8-427f-90ca-b0b08ce21bd1', tool_call_id='76fafeee-8021-4f44-bfca-4a928f5f885b', status='error'),\n",
       " AIMessage(content='I am sorry, I ran into an error. Please try again.', additional_kwargs={'function_call': {'name': 'schedule_manager', 'arguments': '{\"query\": \"What\\'s on my schedule for Monday?\"}'}}, response_metadata={'prompt_feedback': {'block_reason': 0, 'safety_ratings': []}, 'finish_reason': 'STOP', 'safety_ratings': []}, id='run-80e02d5a-492c-4b37-8137-fa163f314060-0', tool_calls=[{'name': 'schedule_manager', 'args': {'query': \"What's on my schedule for Monday?\"}, 'id': '700aa8e5-8415-45ad-9684-75440ff65778', 'type': 'tool_call'}], usage_metadata={'input_tokens': 299, 'output_tokens': 28, 'total_tokens': 327, 'input_token_details': {'cache_read': 0}}),\n",
       " ToolMessage(content=\"Error: TypeError('llm_nodes.show_schedule_node() takes 1 positional argument but 2 were given')\\n Please fix your mistakes.\", name='schedule_manager', id='2a63652a-de9c-49ee-9861-e64006bfb431', tool_call_id='700aa8e5-8415-45ad-9684-75440ff65778', status='error'),\n",
       " AIMessage(content='I am sorry, I cannot fulfill this request. There seems to be an error with the schedule manager tool. Please try again later.', additional_kwargs={}, response_metadata={'prompt_feedback': {'block_reason': 0, 'safety_ratings': []}, 'finish_reason': 'STOP', 'safety_ratings': []}, id='run-023dc677-0b1e-4c03-9228-7be5b502bd4f-0', usage_metadata={'input_tokens': 348, 'output_tokens': 28, 'total_tokens': 376, 'input_token_details': {'cache_read': 0}})]"
      ]
     },
     "execution_count": 20,
     "metadata": {},
     "output_type": "execute_result"
    }
   ],
   "source": [
    "travel_assistant.get_state('messages')"
   ]
  },
  {
   "cell_type": "code",
   "execution_count": null,
   "metadata": {},
   "outputs": [
    {
     "name": "stdout",
     "output_type": "stream",
     "text": [
      "* Running on local URL:  http://127.0.0.1:7862\n",
      "\n",
      "To create a public link, set `share=True` in `launch()`.\n"
     ]
    },
    {
     "data": {
      "text/html": [
       "<div><iframe src=\"http://127.0.0.1:7862/\" width=\"100%\" height=\"500\" allow=\"autoplay; camera; microphone; clipboard-read; clipboard-write;\" frameborder=\"0\" allowfullscreen></iframe></div>"
      ],
      "text/plain": [
       "<IPython.core.display.HTML object>"
      ]
     },
     "metadata": {},
     "output_type": "display_data"
    }
   ],
   "source": [
    "# Create the Gradio application\n",
    "with gr.Blocks(title=\"Travel Assistant\") as app:\n",
    "    gr.Markdown(\"# Travel Assistant\")\n",
    "    gr.Markdown(\"Upload an image of your schedule, then ask questions about it.\")\n",
    "    \n",
    "    \n",
    "    with gr.Row():\n",
    "        with gr.Sidebar():\n",
    "            with gr.Column(scale=1):\n",
    "                image_input = gr.Image(label=\"Upload Schedule Image\", type=\"pil\")\n",
    "                upload_button = gr.Button(\"Process Schedule\")\n",
    "            \n",
    "        with gr.Column(scale=2):\n",
    "            gr.ChatInterface(chat, type=\"messages\", autofocus=False, )\n",
    "    \n",
    "    upload_button.click(\n",
    "        fn=image_processing,\n",
    "        inputs=image_input\n",
    "    )\n",
    "    \n",
    "    # message.submit(\n",
    "    #     fn=chat,\n",
    "    #     inputs=[message, chatbot],\n",
    "    #     outputs=[chatbot]\n",
    "    # )\n",
    "    \n",
    "    gr.Markdown(\"## Example Questions\")\n",
    "    gr.Markdown(\"\"\"\n",
    "    - \"Show me my full schedule\"\n",
    "    - \"What's on my schedule for Monday?\"\n",
    "    - \"Do I have anything at 2:00 PM?\"\n",
    "    - \"When is my team meeting?\"\n",
    "    - \"What notes are in my schedule?\"\n",
    "    - \"When am I free on Tuesday?\"\n",
    "    \"\"\")\n",
    "\n",
    "# Launch the app\n",
    "if __name__ == \"__main__\":\n",
    "    app.launch()"
   ]
  }
 ],
 "metadata": {
  "kernelspec": {
   "display_name": ".venv",
   "language": "python",
   "name": "python3"
  },
  "language_info": {
   "codemirror_mode": {
    "name": "ipython",
    "version": 3
   },
   "file_extension": ".py",
   "mimetype": "text/x-python",
   "name": "python",
   "nbconvert_exporter": "python",
   "pygments_lexer": "ipython3",
   "version": "3.13.2"
  }
 },
 "nbformat": 4,
 "nbformat_minor": 2
}
