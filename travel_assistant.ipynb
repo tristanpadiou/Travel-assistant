{
 "cells": [
  {
   "cell_type": "code",
   "execution_count": 141,
   "metadata": {},
   "outputs": [
    {
     "data": {
      "text/plain": [
       "True"
      ]
     },
     "execution_count": 141,
     "metadata": {},
     "output_type": "execute_result"
    }
   ],
   "source": [
    "from maps_agent import maps_agent\n",
    "from schedule_agent import Schedule_agent\n",
    "\n",
    "from langchain_google_genai import ChatGoogleGenerativeAI\n",
    "from langchain.agents import initialize_agent, load_tools\n",
    "from langchain.tools import Tool,tool,StructuredTool\n",
    "from langchain.prompts import PromptTemplate\n",
    "from langgraph.graph import StateGraph, START, END\n",
    "from langgraph.graph.message import add_messages\n",
    "from langgraph.prebuilt import ToolNode, tools_condition,InjectedState\n",
    "from langchain_core.messages import (\n",
    "    SystemMessage,\n",
    "    HumanMessage,\n",
    "    AIMessage,\n",
    "    ToolMessage,\n",
    ")\n",
    "from pydantic import BaseModel, Field\n",
    "import pytz\n",
    "from datetime import datetime\n",
    "from langgraph.types import Command, interrupt\n",
    "from langgraph.checkpoint.memory import MemorySaver\n",
    "from langchain_core.tools.base import InjectedToolCallId\n",
    "from typing_extensions import TypedDict\n",
    "from typing import Annotated, Literal\n",
    "#get graph visuals\n",
    "from IPython.display import Image, display\n",
    "from langchain_core.runnables.graph import CurveStyle, MermaidDrawMethod, NodeStyles\n",
    "import os\n",
    "import requests\n",
    "from dotenv import load_dotenv \n",
    "import geocoder\n",
    "# gradio\n",
    "import gradio as gr\n",
    "load_dotenv()"
   ]
  },
  {
   "cell_type": "code",
   "execution_count": 142,
   "metadata": {},
   "outputs": [],
   "source": [
    "GOOGLE_API_KEY=os.getenv('google_api_key')\n",
    "pse=os.getenv('pse')\n",
    "OPENWEATHERMAP_API_KEY=os.getenv('open_weather_key')\n",
    "os.environ['OPENWEATHERMAP_API_KEY']=OPENWEATHERMAP_API_KEY"
   ]
  },
  {
   "cell_type": "code",
   "execution_count": 143,
   "metadata": {},
   "outputs": [],
   "source": [
    "GEMINI_MODEL='gemini-2.0-flash'\n",
    "llm = ChatGoogleGenerativeAI(google_api_key=GOOGLE_API_KEY, model=GEMINI_MODEL, temperature=0.3)"
   ]
  },
  {
   "cell_type": "code",
   "execution_count": 144,
   "metadata": {},
   "outputs": [],
   "source": [
    "class State(TypedDict):\n",
    "    messages:Annotated[list, add_messages]\n",
    "\n"
   ]
  },
  {
   "cell_type": "code",
   "execution_count": 145,
   "metadata": {},
   "outputs": [],
   "source": [
    "maps_ai=maps_agent(llm)\n",
    "Schedule_ai=Schedule_agent(llm)"
   ]
  },
  {
   "cell_type": "code",
   "execution_count": 146,
   "metadata": {},
   "outputs": [],
   "source": [
    "# extra tools for question answering\n",
    "\n",
    "# initializing time and date tool\n",
    "\n",
    "#creating a schema\n",
    "class time_tool_schema(BaseModel):\n",
    "  continent: str = Field(description='continent')\n",
    "  city: str = Field(description='city')\n",
    "\n",
    "def date_time_tool(continent: str,city: str) -> str:\n",
    "  \"\"\"\n",
    "  tool to get the current date and time in a city.\n",
    "\n",
    "  \"\"\"\n",
    "  city=city.replace(' ','_')\n",
    "  continent=continent.replace(' ','_')\n",
    "  query=continent+'/'+city\n",
    "  timezone = pytz.timezone(query)\n",
    "  # Get the current time in UTC, and then convert it to the Marrakech timezone\n",
    "  utc_now = datetime.now(pytz.utc)  # Get current time in UTC\n",
    "  localized_time = utc_now.astimezone(timezone)  # Convert to Marrakech time\n",
    "  time=localized_time.strftime('%Y-%m-%d %H:%M:%S')\n",
    "  return time\n",
    "\n",
    "current_date_time_tool=StructuredTool.from_function(name='current_date_time_tool', func=date_time_tool, description='To get the current date and time in any city',args_schema=time_tool_schema, return_direct=True)\n",
    "\n",
    "def google_image_search(query: str) -> str:\n",
    "  \"\"\"Search for images using Google Custom Search API\n",
    "  args: query\n",
    "  return: image url\n",
    "  \"\"\"\n",
    "  # Define the API endpoint for Google Custom Search\n",
    "  url = \"https://www.googleapis.com/customsearch/v1\"\n",
    "\n",
    "  params = {\n",
    "      \"q\": query,\n",
    "      \"cx\": pse,\n",
    "      \"key\": GOOGLE_API_KEY,\n",
    "      \"searchType\": \"image\",  # Search for images\n",
    "      \"num\": 1  # Number of results to fetch\n",
    "  }\n",
    "\n",
    "  # Make the request to the Google Custom Search API\n",
    "  response = requests.get(url, params=params)\n",
    "  data = response.json()\n",
    "\n",
    "  # Check if the response contains image results\n",
    "  if 'items' in data:\n",
    "      # Extract the first image result\n",
    "      image_url = data['items'][0]['link']\n",
    "      return image_url\n",
    "  else:\n",
    "      return \"Sorry, no images were found for your query.\"\n",
    "\n",
    "google_image_tool=Tool(name='google_image_tool', func=google_image_search, description='Use this tool to search for images using Google Custom Search API')"
   ]
  },
  {
   "cell_type": "code",
   "execution_count": 147,
   "metadata": {},
   "outputs": [],
   "source": [
    "@tool\n",
    "def get_current_location_tool():\n",
    "    \"\"\"\n",
    "    Tool to get the current location, city&continent of the user.\n",
    "    agrs: none\n",
    "    \"\"\"\n",
    "    current_location = geocoder.ip(\"me\")\n",
    "    if current_location.latlng:\n",
    "        latitude, longitude = current_location.latlng\n",
    "        address = current_location.address\n",
    "        return f'The current location is: address:{address}, longitude:{longitude},lattitude:{latitude}.'\n",
    "    else:\n",
    "        return None"
   ]
  },
  {
   "cell_type": "code",
   "execution_count": 148,
   "metadata": {},
   "outputs": [],
   "source": [
    "@tool\n",
    "def schedule_manager(query:str):\n",
    "    \"\"\"\n",
    "    Use this tool for any schedule related queries\n",
    "    this tool can: \n",
    "    list the local files\n",
    "    load a schedule\n",
    "    make edits to the schedule\n",
    "    answer questions about the schedule\n",
    "    save the schedule\n",
    "    args:query - pass the schedule related queries directly here\n",
    "    \"\"\"\n",
    "    response=Schedule_ai.chatbot(str(query))\n",
    "    return response"
   ]
  },
  {
   "cell_type": "code",
   "execution_count": 149,
   "metadata": {},
   "outputs": [],
   "source": [
    "@tool\n",
    "def maps_tool(query: str):\n",
    "    \"\"\"\n",
    "    Use this tool for any maps or location related queries\n",
    "    all the context is provided in the tool, simply pass the query\n",
    "    this tool can:\n",
    "    get the current location\n",
    "    find nearby places\n",
    "    find places in different locations\n",
    "    show the places that have been found\n",
    "    args:query - maps or location related queries\n",
    "    \"\"\"\n",
    "    response=maps_ai.chatbot(str(query))\n",
    "    return response"
   ]
  },
  {
   "cell_type": "code",
   "execution_count": 150,
   "metadata": {},
   "outputs": [],
   "source": [
    "class travel_agent:\n",
    "    def __init__(self,llm: any):\n",
    "        self.agent=self._setup(llm)\n",
    "        \n",
    "\n",
    "    def _setup(self,llm):\n",
    "        api_tools=load_tools(['openweathermap-api','wikipedia'])\n",
    "        langgraph_tools=[current_date_time_tool,google_image_tool,schedule_manager,maps_tool,get_current_location_tool]+api_tools\n",
    "\n",
    "\n",
    "        graph_builder = StateGraph(State)\n",
    "        \n",
    "        # Modification: tell the LLM which tools it can call\n",
    "        llm_with_tools = llm.bind_tools(langgraph_tools)\n",
    "        tool_node = ToolNode(tools=langgraph_tools)\n",
    "        def chatbot(state: State):\n",
    "            \"\"\" travel assistant that answers user questions about their trip.\n",
    "            Depending on the request, leverage which tools to use if necessary.\"\"\"\n",
    "            return {\"messages\": [llm_with_tools.invoke(state['messages'])]}\n",
    "\n",
    "        graph_builder.add_node(\"chatbot\", chatbot)\n",
    "\n",
    "        \n",
    "        graph_builder.add_node(\"tools\", tool_node)\n",
    "        # Any time a tool is called, we return to the chatbot to decide the next step\n",
    "        graph_builder.set_entry_point(\"chatbot\")\n",
    "\n",
    "        graph_builder.add_edge(\"tools\", \"chatbot\")\n",
    "        graph_builder.add_conditional_edges(\n",
    "            \"chatbot\",\n",
    "            tools_condition,\n",
    "        )\n",
    "        memory=MemorySaver()\n",
    "        graph=graph_builder.compile(checkpointer=memory)\n",
    "        return graph\n",
    "    \n",
    "    def display_graph(self):\n",
    "        return display(\n",
    "            Image(\n",
    "                    self.agent.get_graph().draw_mermaid_png(\n",
    "                        draw_method=MermaidDrawMethod.API,\n",
    "                    )\n",
    "                )\n",
    "            )\n",
    "    def get_state(self, state_val:str):\n",
    "        config = {\"configurable\": {\"thread_id\": \"1\"}}\n",
    "        return self.agent.get_state(config).values[state_val]\n",
    "    \n",
    "    def stream(self,input:str):\n",
    "        config = {\"configurable\": {\"thread_id\": \"1\"}}\n",
    "        input_message = HumanMessage(content=input)\n",
    "        for event in self.agent.stream({\"messages\": [input_message]}, config, stream_mode=\"values\"):\n",
    "            event[\"messages\"][-1].pretty_print()\n",
    "\n",
    "    def chatbot(self,input:str):\n",
    "        config = {\"configurable\": {\"thread_id\": \"1\"}}\n",
    "        response=self.agent.invoke({'messages':HumanMessage(content=str(input))},config)\n",
    "        return response['messages'][-1].content"
   ]
  },
  {
   "cell_type": "code",
   "execution_count": 153,
   "metadata": {},
   "outputs": [],
   "source": [
    "travel_assistant=travel_agent(llm)"
   ]
  },
  {
   "cell_type": "code",
   "execution_count": 154,
   "metadata": {},
   "outputs": [
    {
     "name": "stdout",
     "output_type": "stream",
     "text": [
      "================================\u001b[1m Human Message \u001b[0m=================================\n",
      "\n",
      " can you load the file test.txt\n",
      "==================================\u001b[1m Ai Message \u001b[0m==================================\n",
      "Tool Calls:\n",
      "  schedule_manager (2fff88fa-4696-4984-9832-5fb72fcbd481)\n",
      " Call ID: 2fff88fa-4696-4984-9832-5fb72fcbd481\n",
      "  Args:\n",
      "    query: load test.txt\n",
      "=================================\u001b[1m Tool Message \u001b[0m=================================\n",
      "Name: schedule_manager\n",
      "\n",
      "OK. I have loaded the schedule from test.txt.\n",
      "==================================\u001b[1m Ai Message \u001b[0m==================================\n",
      "\n",
      "OK. I have loaded the schedule from test.txt.\n"
     ]
    }
   ],
   "source": [
    "travel_assistant.stream(' can you load the file test.txt')"
   ]
  },
  {
   "cell_type": "code",
   "execution_count": 103,
   "metadata": {},
   "outputs": [
    {
     "data": {
      "text/plain": [
       "[HumanMessage(content=' can you load the file test.txt', additional_kwargs={}, response_metadata={}, id='a1761dbd-99cc-458a-ae5b-f495fcce729f'),\n",
       " AIMessage(content='', additional_kwargs={'function_call': {'name': 'schedule_manager', 'arguments': '{\"query\": \"load test.txt\"}'}}, response_metadata={'prompt_feedback': {'block_reason': 0, 'safety_ratings': []}, 'finish_reason': 'STOP', 'safety_ratings': []}, id='run-c49e5806-b633-4fa0-a86b-fafc42864bc3-0', tool_calls=[{'name': 'schedule_manager', 'args': {'query': 'load test.txt'}, 'id': '237ad540-3719-42e1-b381-2a895646407e', 'type': 'tool_call'}], usage_metadata={'input_tokens': 290, 'output_tokens': 8, 'total_tokens': 298, 'input_token_details': {'cache_read': 0}}),\n",
       " ToolMessage(content='OK. I have loaded the schedule from test.txt.', name='schedule_manager', id='24e8d4e7-5d49-487a-8a68-41c7ba5cec76', tool_call_id='237ad540-3719-42e1-b381-2a895646407e'),\n",
       " AIMessage(content='OK. I have loaded the schedule from test.txt.', additional_kwargs={}, response_metadata={'prompt_feedback': {'block_reason': 0, 'safety_ratings': []}, 'finish_reason': 'STOP', 'safety_ratings': []}, id='run-f8e34878-abb7-492b-9629-be11c0b8bf97-0', usage_metadata={'input_tokens': 314, 'output_tokens': 13, 'total_tokens': 327, 'input_token_details': {'cache_read': 0}})]"
      ]
     },
     "execution_count": 103,
     "metadata": {},
     "output_type": "execute_result"
    }
   ],
   "source": [
    "travel_assistant.get_state('messages')"
   ]
  },
  {
   "cell_type": "code",
   "execution_count": 130,
   "metadata": {},
   "outputs": [
    {
     "ename": "KeyError",
     "evalue": "'Schedule_ai'",
     "output_type": "error",
     "traceback": [
      "\u001b[1;31m---------------------------------------------------------------------------\u001b[0m",
      "\u001b[1;31mKeyError\u001b[0m                                  Traceback (most recent call last)",
      "Cell \u001b[1;32mIn[130], line 1\u001b[0m\n\u001b[1;32m----> 1\u001b[0m \u001b[43mtravel_assistant\u001b[49m\u001b[38;5;241;43m.\u001b[39;49m\u001b[43mget_state\u001b[49m\u001b[43m(\u001b[49m\u001b[38;5;124;43m'\u001b[39;49m\u001b[38;5;124;43mSchedule_ai\u001b[39;49m\u001b[38;5;124;43m'\u001b[39;49m\u001b[43m)\u001b[49m\n",
      "Cell \u001b[1;32mIn[127], line 47\u001b[0m, in \u001b[0;36mtravel_agent.get_state\u001b[1;34m(self, state_val)\u001b[0m\n\u001b[0;32m     45\u001b[0m \u001b[38;5;28;01mdef\u001b[39;00m\u001b[38;5;250m \u001b[39m\u001b[38;5;21mget_state\u001b[39m(\u001b[38;5;28mself\u001b[39m, state_val:\u001b[38;5;28mstr\u001b[39m):\n\u001b[0;32m     46\u001b[0m     config \u001b[38;5;241m=\u001b[39m {\u001b[38;5;124m\"\u001b[39m\u001b[38;5;124mconfigurable\u001b[39m\u001b[38;5;124m\"\u001b[39m: {\u001b[38;5;124m\"\u001b[39m\u001b[38;5;124mthread_id\u001b[39m\u001b[38;5;124m\"\u001b[39m: \u001b[38;5;124m\"\u001b[39m\u001b[38;5;124m1\u001b[39m\u001b[38;5;124m\"\u001b[39m}}\n\u001b[1;32m---> 47\u001b[0m     \u001b[38;5;28;01mreturn\u001b[39;00m \u001b[38;5;28;43mself\u001b[39;49m\u001b[38;5;241;43m.\u001b[39;49m\u001b[43magent\u001b[49m\u001b[38;5;241;43m.\u001b[39;49m\u001b[43mget_state\u001b[49m\u001b[43m(\u001b[49m\u001b[43mconfig\u001b[49m\u001b[43m)\u001b[49m\u001b[38;5;241;43m.\u001b[39;49m\u001b[43mvalues\u001b[49m\u001b[43m[\u001b[49m\u001b[43mstate_val\u001b[49m\u001b[43m]\u001b[49m\n",
      "\u001b[1;31mKeyError\u001b[0m: 'Schedule_ai'"
     ]
    }
   ],
   "source": [
    "travel_assistant.get_state('Schedule_ai')"
   ]
  },
  {
   "cell_type": "code",
   "execution_count": 110,
   "metadata": {},
   "outputs": [
    {
     "data": {
      "text/plain": [
       "[HumanMessage(content='fun vegetarian restaurants in east village nyc', additional_kwargs={}, response_metadata={}, id='da735fec-f7c3-4767-a620-01af3463d91a'),\n",
       " AIMessage(content='', additional_kwargs={'function_call': {'name': 'look_for_places', 'arguments': '{\"query\": \"fun%20vegetarian%20restaurants%20in%20east%20village%20nyc\"}'}}, response_metadata={'prompt_feedback': {'block_reason': 0, 'safety_ratings': []}, 'finish_reason': 'STOP', 'safety_ratings': []}, id='run-34fe37d5-174b-48d2-871c-3e35e58a3ac7-0', tool_calls=[{'name': 'look_for_places', 'args': {'query': 'fun%20vegetarian%20restaurants%20in%20east%20village%20nyc'}, 'id': '9fb2fadc-2b6d-4af8-a844-446a3a9a38ac', 'type': 'tool_call'}], usage_metadata={'input_tokens': 1792, 'output_tokens': 31, 'total_tokens': 1823, 'input_token_details': {'cache_read': 0}}),\n",
       " ToolMessage(content='I found 16 places', name='look_for_places', id='c4368de2-1d2d-4f09-995c-b056e0548edd', tool_call_id='9fb2fadc-2b6d-4af8-a844-446a3a9a38ac'),\n",
       " AIMessage(content='OK. I found 16 places. I will show them to you.', additional_kwargs={'function_call': {'name': 'show_places_found', 'arguments': '{}'}}, response_metadata={'prompt_feedback': {'block_reason': 0, 'safety_ratings': []}, 'finish_reason': 'STOP', 'safety_ratings': []}, id='run-2afdcc91-869e-4098-be76-552f1213ef31-0', tool_calls=[{'name': 'show_places_found', 'args': {}, 'id': 'b4b1abbd-a623-4744-9128-65dea08ba314', 'type': 'tool_call'}], usage_metadata={'input_tokens': 1835, 'output_tokens': 22, 'total_tokens': 1857, 'input_token_details': {'cache_read': 0}}),\n",
       " ToolMessage(content='{\"Ladybird\": {\"address\": \"111 E 7th St, New York, NY 10009, United States\", \"rating\": 4.5, \"Price_level\": 2, \"google_maps_link\": \"https://maps.google.com/?cid=772711713125519090\", \"longitude\": -73.9845333, \"latitude\": 40.7266801}, \"Avant Garden\": {\"address\": \"95 Avenue A 2nd floor, New York, NY 10009, United States\", \"rating\": 4.6, \"Price_level\": 3, \"google_maps_link\": \"https://maps.google.com/?cid=1502061304876269736\", \"longitude\": -73.98408189999999, \"latitude\": 40.7256613}, \"Souen\": {\"address\": \"326 E 6th St, New York, NY 10003, United States\", \"rating\": 4.4, \"Price_level\": 2, \"google_maps_link\": \"https://maps.google.com/?cid=16448740669706839916\", \"longitude\": -73.9872974, \"latitude\": 40.7267796}, \"Divya\\'s Kitchen\": {\"address\": \"25 1st Ave., New York, NY 10003, United States\", \"rating\": 4.6, \"Price_level\": 2, \"google_maps_link\": \"https://maps.google.com/?cid=13445203345349453072\", \"longitude\": -73.9884906, \"latitude\": 40.7237699}, \"Seasoned Vegan Real Quick\": {\"address\": \"128 2nd Ave, New York, NY 10003, United States\", \"rating\": 4.4, \"Price_level\": 2, \"google_maps_link\": \"https://maps.google.com/?cid=4448177612972572696\", \"longitude\": -73.9876511, \"latitude\": 40.7283428}, \"Vegan Grill\": {\"address\": \"58 St Marks Pl, New York, NY 10003, United States\", \"rating\": 4.5, \"Price_level\": 2, \"google_maps_link\": \"https://maps.google.com/?cid=9632328417237528714\", \"longitude\": -73.9866708, \"latitude\": 40.7279361}, \"Caravan Of Dreams\": {\"address\": \"405 E 6th St, New York, NY 10009, United States\", \"rating\": 4.5, \"Price_level\": 2, \"google_maps_link\": \"https://maps.google.com/?cid=7340766285564440891\", \"longitude\": -73.98565239999999, \"latitude\": 40.7263767}, \"Chakra\": {\"address\": \"317 E 5th St, New York, NY 10003, United States\", \"rating\": 4.8, \"Price_level\": 2, \"google_maps_link\": \"https://maps.google.com/?cid=13177235303405952672\", \"longitude\": -73.9880477, \"latitude\": 40.7266154}, \"Bar Verde\": {\"address\": \"65 2nd Ave, New York, NY 10003, United States\", \"rating\": 4.5, \"Price_level\": 2, \"google_maps_link\": \"https://maps.google.com/?cid=2672813890259699868\", \"longitude\": -73.9897793, \"latitude\": 40.7260641}, \"Double Zero\": {\"address\": \"65 2nd Ave, New York, NY 10003, United States\", \"rating\": 4.5, \"Price_level\": 2, \"google_maps_link\": \"https://maps.google.com/?cid=6314254882819271134\", \"longitude\": -73.9897187, \"latitude\": 40.7260988}, \"Dirt Candy\": {\"address\": \"86 Allen St, New York, NY 10002, United States\", \"rating\": 4.5, \"Price_level\": 2, \"google_maps_link\": \"https://maps.google.com/?cid=1438696260955354463\", \"longitude\": -73.9907054, \"latitude\": 40.7178611}, \"abcV\": {\"address\": \"38 E 19th St, New York, NY 10003, United States\", \"rating\": 4.4, \"Price_level\": 3, \"google_maps_link\": \"https://maps.google.com/?cid=2172635308240601344\", \"longitude\": -73.98928409999999, \"latitude\": 40.7379803}, \"Red Bamboo\": {\"address\": \"140 West 4th Street, New York, NY 10012, United States\", \"rating\": 4.5, \"Price_level\": 2, \"google_maps_link\": \"https://maps.google.com/?cid=15184870199926837892\", \"longitude\": -74.0003187, \"latitude\": 40.731286}, \"Spicy Moon East Village\": {\"address\": \"328 E 6th St, New York, NY 10003, United States\", \"rating\": 4.6, \"Price_level\": 2, \"google_maps_link\": \"https://maps.google.com/?cid=12355271495937595182\", \"longitude\": -73.9872132, \"latitude\": 40.7267442}, \"Spicy Moon Bowery\": {\"address\": \"265 Bowery, New York, NY 10002, United States\", \"rating\": 4.5, \"Price_level\": 2, \"google_maps_link\": \"https://maps.google.com/?cid=10293011129732595257\", \"longitude\": -73.9924838, \"latitude\": 40.72341670000001}, \"Superiority Burger\": {\"address\": \"119 Avenue A, New York, NY 10009, United States\", \"rating\": 4.3, \"Price_level\": 1, \"google_maps_link\": \"https://maps.google.com/?cid=1577213833939647660\", \"longitude\": -73.983422, \"latitude\": 40.7264544}}', name='show_places_found', id='4daac75a-5fe0-41e1-92cc-2e8c3a9dcb9d', tool_call_id='b4b1abbd-a623-4744-9128-65dea08ba314'),\n",
       " AIMessage(content='Okay, I see a lot of great options! Here are a few that stand out based on the description \"fun\" and high ratings:\\n\\n*   **Avant Garden:** This has a price level of 3 and a rating of 4.6.\\n*   **Bar Verde:** This has a price level of 2 and a rating of 4.5.\\n*   **Ladybird:** This has a price level of 2 and a rating of 4.5.\\n*   **Spicy Moon East Village:** This has a price level of 2 and a rating of 4.6.\\n\\nI can provide the links to these if you want.', additional_kwargs={}, response_metadata={'prompt_feedback': {'block_reason': 0, 'safety_ratings': []}, 'finish_reason': 'STOP', 'safety_ratings': []}, id='run-d8814757-3ac5-489a-9d95-9f7f0edf4fb9-0', usage_metadata={'input_tokens': 2882, 'output_tokens': 139, 'total_tokens': 3021, 'input_token_details': {'cache_read': 0}})]"
      ]
     },
     "execution_count": 110,
     "metadata": {},
     "output_type": "execute_result"
    }
   ],
   "source": [
    "maps_ai.get_state('messages')"
   ]
  },
  {
   "cell_type": "code",
   "execution_count": 105,
   "metadata": {},
   "outputs": [],
   "source": [
    "def chatbot(input, history):\n",
    "    response=travel_assistant.chatbot(input)\n",
    "    return response"
   ]
  },
  {
   "cell_type": "code",
   "execution_count": 107,
   "metadata": {},
   "outputs": [
    {
     "name": "stdout",
     "output_type": "stream",
     "text": [
      "* Running on local URL:  http://127.0.0.1:7863\n",
      "\n",
      "To create a public link, set `share=True` in `launch()`.\n"
     ]
    },
    {
     "data": {
      "text/html": [
       "<div><iframe src=\"http://127.0.0.1:7863/\" width=\"100%\" height=\"500\" allow=\"autoplay; camera; microphone; clipboard-read; clipboard-write;\" frameborder=\"0\" allowfullscreen></iframe></div>"
      ],
      "text/plain": [
       "<IPython.core.display.HTML object>"
      ]
     },
     "metadata": {},
     "output_type": "display_data"
    }
   ],
   "source": [
    "demo = gr.ChatInterface(chatbot, type=\"messages\", autofocus=False)\n",
    "\n",
    "if __name__ == \"__main__\":\n",
    "    demo.launch()"
   ]
  }
 ],
 "metadata": {
  "kernelspec": {
   "display_name": "localllm",
   "language": "python",
   "name": "python3"
  },
  "language_info": {
   "codemirror_mode": {
    "name": "ipython",
    "version": 3
   },
   "file_extension": ".py",
   "mimetype": "text/x-python",
   "name": "python",
   "nbconvert_exporter": "python",
   "pygments_lexer": "ipython3",
   "version": "3.12.3"
  }
 },
 "nbformat": 4,
 "nbformat_minor": 2
}
