{
 "cells": [
  {
   "cell_type": "code",
   "execution_count": 1,
   "metadata": {},
   "outputs": [
    {
     "data": {
      "text/plain": [
       "True"
      ]
     },
     "execution_count": 1,
     "metadata": {},
     "output_type": "execute_result"
    }
   ],
   "source": [
    "from maps_agent import maps_agent\n",
    "from schedule_agent import Schedule_agent\n",
    "from langchain_community.agent_toolkits.load_tools import load_tools\n",
    "from langchain_google_genai import ChatGoogleGenerativeAI\n",
    "from langchain.agents import initialize_agent\n",
    "from langchain.tools import Tool,tool,StructuredTool\n",
    "from langchain.prompts import PromptTemplate\n",
    "from langgraph.graph import StateGraph, START, END\n",
    "from langgraph.graph.message import add_messages\n",
    "from langgraph.prebuilt import ToolNode, tools_condition,InjectedState\n",
    "from langchain_core.messages import (\n",
    "    SystemMessage,\n",
    "    HumanMessage,\n",
    "    AIMessage,\n",
    "    ToolMessage,\n",
    ")\n",
    "from pydantic import BaseModel, Field\n",
    "import pytz\n",
    "from datetime import datetime\n",
    "from langgraph.types import Command, interrupt\n",
    "from langgraph.checkpoint.memory import MemorySaver\n",
    "from langchain_core.tools.base import InjectedToolCallId\n",
    "from typing_extensions import TypedDict\n",
    "from typing import Annotated, Literal\n",
    "#get graph visuals\n",
    "from IPython.display import Image, display\n",
    "from langchain_core.runnables.graph import CurveStyle, MermaidDrawMethod, NodeStyles\n",
    "import os\n",
    "import requests\n",
    "from dotenv import load_dotenv \n",
    "import geocoder\n",
    "# gradio\n",
    "import gradio as gr\n",
    "load_dotenv()"
   ]
  },
  {
   "cell_type": "code",
   "execution_count": 2,
   "metadata": {},
   "outputs": [],
   "source": [
    "GOOGLE_API_KEY=os.getenv('google_api_key')\n",
    "pse=os.getenv('pse')\n",
    "OPENWEATHERMAP_API_KEY=os.getenv('open_weather_key')\n",
    "os.environ['OPENWEATHERMAP_API_KEY']=OPENWEATHERMAP_API_KEY"
   ]
  },
  {
   "cell_type": "code",
   "execution_count": 3,
   "metadata": {},
   "outputs": [],
   "source": [
    "GEMINI_MODEL='gemini-2.0-flash'\n",
    "llm = ChatGoogleGenerativeAI(google_api_key=GOOGLE_API_KEY, model=GEMINI_MODEL, temperature=0.3)"
   ]
  },
  {
   "cell_type": "code",
   "execution_count": 4,
   "metadata": {},
   "outputs": [],
   "source": [
    "class State(TypedDict):\n",
    "    messages:Annotated[list, add_messages]\n",
    "\n"
   ]
  },
  {
   "cell_type": "code",
   "execution_count": 5,
   "metadata": {},
   "outputs": [],
   "source": [
    "maps_ai=maps_agent(llm)\n",
    "Schedule_ai=Schedule_agent(llm)"
   ]
  },
  {
   "cell_type": "code",
   "execution_count": 6,
   "metadata": {},
   "outputs": [],
   "source": [
    "# extra tools for question answering\n",
    "\n",
    "# initializing time and date tool\n",
    "\n",
    "#creating a schema\n",
    "class time_tool_schema(BaseModel):\n",
    "  continent: str = Field(description='continent')\n",
    "  city: str = Field(description='city')\n",
    "\n",
    "def date_time_tool(continent: str,city: str) -> str:\n",
    "  \"\"\"\n",
    "  tool to get the current date and time in a city.\n",
    "\n",
    "  \"\"\"\n",
    "  city=city.replace(' ','_')\n",
    "  continent=continent.replace(' ','_')\n",
    "  query=continent+'/'+city\n",
    "  timezone = pytz.timezone(query)\n",
    "  # Get the current time in UTC, and then convert it to the Marrakech timezone\n",
    "  utc_now = datetime.now(pytz.utc)  # Get current time in UTC\n",
    "  localized_time = utc_now.astimezone(timezone)  # Convert to Marrakech time\n",
    "  time=localized_time.strftime('%Y-%m-%d %H:%M:%S')\n",
    "  return time\n",
    "\n",
    "current_date_time_tool=StructuredTool.from_function(name='current_date_time_tool', func=date_time_tool, description='To get the current date and time in any city',args_schema=time_tool_schema, return_direct=True)\n",
    "\n",
    "def google_image_search(query: str) -> str:\n",
    "  \"\"\"Search for images using Google Custom Search API\n",
    "  args: query\n",
    "  return: image url\n",
    "  \"\"\"\n",
    "  # Define the API endpoint for Google Custom Search\n",
    "  url = \"https://www.googleapis.com/customsearch/v1\"\n",
    "\n",
    "  params = {\n",
    "      \"q\": query,\n",
    "      \"cx\": pse,\n",
    "      \"key\": GOOGLE_API_KEY,\n",
    "      \"searchType\": \"image\",  # Search for images\n",
    "      \"num\": 1  # Number of results to fetch\n",
    "  }\n",
    "\n",
    "  # Make the request to the Google Custom Search API\n",
    "  response = requests.get(url, params=params)\n",
    "  data = response.json()\n",
    "\n",
    "  # Check if the response contains image results\n",
    "  if 'items' in data:\n",
    "      # Extract the first image result\n",
    "      image_url = data['items'][0]['link']\n",
    "      return image_url\n",
    "  else:\n",
    "      return \"Sorry, no images were found for your query.\"\n",
    "\n",
    "google_image_tool=Tool(name='google_image_tool', func=google_image_search, description='Use this tool to search for images using Google Custom Search API')"
   ]
  },
  {
   "cell_type": "code",
   "execution_count": 7,
   "metadata": {},
   "outputs": [],
   "source": [
    "@tool\n",
    "def get_current_location_tool():\n",
    "    \"\"\"\n",
    "    Tool to get the current location, city&continent of the user.\n",
    "    agrs: none\n",
    "    \"\"\"\n",
    "    current_location = geocoder.ip(\"me\")\n",
    "    if current_location.latlng:\n",
    "        latitude, longitude = current_location.latlng\n",
    "        address = current_location.address\n",
    "        return f'The current location is: address:{address}, longitude:{longitude},lattitude:{latitude}.'\n",
    "    else:\n",
    "        return None"
   ]
  },
  {
   "cell_type": "code",
   "execution_count": 8,
   "metadata": {},
   "outputs": [],
   "source": [
    "@tool\n",
    "def schedule_manager(query:str):\n",
    "    \"\"\"\n",
    "    Use this tool for any schedule related queries\n",
    "    this tool can: \n",
    "    list the local files\n",
    "    load a schedule\n",
    "    make edits to the schedule\n",
    "    answer questions about the schedule\n",
    "    save the schedule\n",
    "    args:query - pass the schedule related queries directly here\n",
    "    \"\"\"\n",
    "    response=Schedule_ai.chatbot(str(query))\n",
    "    return response"
   ]
  },
  {
   "cell_type": "code",
   "execution_count": 9,
   "metadata": {},
   "outputs": [],
   "source": [
    "@tool\n",
    "def maps_tool(query: str):\n",
    "    \"\"\"\n",
    "    Use this tool for any maps or location related queries\n",
    "    all the context is provided in the tool, simply pass the query\n",
    "    this tool can:\n",
    "    get the current location\n",
    "    find nearby places\n",
    "    find places in different locations\n",
    "    show the places that have been found\n",
    "    args:query - maps or location related queries\n",
    "    \"\"\"\n",
    "    response=maps_ai.chatbot(str(query))\n",
    "    return response"
   ]
  },
  {
   "cell_type": "code",
   "execution_count": 10,
   "metadata": {},
   "outputs": [],
   "source": [
    "class travel_agent:\n",
    "    def __init__(self,llm: any):\n",
    "        self.agent=self._setup(llm)\n",
    "        \n",
    "\n",
    "    def _setup(self,llm):\n",
    "        api_tools=load_tools(['openweathermap-api','wikipedia'])\n",
    "        langgraph_tools=[current_date_time_tool,google_image_tool,schedule_manager,maps_tool,get_current_location_tool]+api_tools\n",
    "\n",
    "\n",
    "        graph_builder = StateGraph(State)\n",
    "        \n",
    "        # Modification: tell the LLM which tools it can call\n",
    "        llm_with_tools = llm.bind_tools(langgraph_tools)\n",
    "        tool_node = ToolNode(tools=langgraph_tools)\n",
    "        def chatbot(state: State):\n",
    "            \"\"\" travel assistant that answers user questions about their trip.\n",
    "            Depending on the request, leverage which tools to use if necessary.\"\"\"\n",
    "            return {\"messages\": [llm_with_tools.invoke(state['messages'])]}\n",
    "\n",
    "        graph_builder.add_node(\"chatbot\", chatbot)\n",
    "\n",
    "        \n",
    "        graph_builder.add_node(\"tools\", tool_node)\n",
    "        # Any time a tool is called, we return to the chatbot to decide the next step\n",
    "        graph_builder.set_entry_point(\"chatbot\")\n",
    "\n",
    "        graph_builder.add_edge(\"tools\", \"chatbot\")\n",
    "        graph_builder.add_conditional_edges(\n",
    "            \"chatbot\",\n",
    "            tools_condition,\n",
    "        )\n",
    "        memory=MemorySaver()\n",
    "        graph=graph_builder.compile(checkpointer=memory)\n",
    "        return graph\n",
    "    \n",
    "    def display_graph(self):\n",
    "        return display(\n",
    "            Image(\n",
    "                    self.agent.get_graph().draw_mermaid_png(\n",
    "                        draw_method=MermaidDrawMethod.API,\n",
    "                    )\n",
    "                )\n",
    "            )\n",
    "    def get_state(self, state_val:str):\n",
    "        config = {\"configurable\": {\"thread_id\": \"1\"}}\n",
    "        return self.agent.get_state(config).values[state_val]\n",
    "    \n",
    "    def stream(self,input:str):\n",
    "        config = {\"configurable\": {\"thread_id\": \"1\"}}\n",
    "        input_message = HumanMessage(content=input)\n",
    "        for event in self.agent.stream({\"messages\": [input_message]}, config, stream_mode=\"values\"):\n",
    "            event[\"messages\"][-1].pretty_print()\n",
    "\n",
    "    def chatbot(self,input:str):\n",
    "        config = {\"configurable\": {\"thread_id\": \"1\"}}\n",
    "        response=self.agent.invoke({'messages':HumanMessage(content=str(input))},config)\n",
    "        return response['messages'][-1].content"
   ]
  },
  {
   "cell_type": "code",
   "execution_count": 11,
   "metadata": {},
   "outputs": [],
   "source": [
    "travel_assistant=travel_agent(llm)"
   ]
  },
  {
   "cell_type": "code",
   "execution_count": 12,
   "metadata": {},
   "outputs": [],
   "source": [
    "# travel_assistant.stream('load test.txt')"
   ]
  },
  {
   "cell_type": "code",
   "execution_count": 13,
   "metadata": {},
   "outputs": [],
   "source": [
    "# travel_assistant.get_state('messages')"
   ]
  },
  {
   "cell_type": "code",
   "execution_count": 14,
   "metadata": {},
   "outputs": [],
   "source": [
    "# Schedule_ai.get_state('messages')"
   ]
  },
  {
   "cell_type": "code",
   "execution_count": 15,
   "metadata": {},
   "outputs": [],
   "source": [
    "def chatbot(input, history):\n",
    "    response=travel_assistant.chatbot(input)\n",
    "    return response"
   ]
  },
  {
   "cell_type": "code",
   "execution_count": 16,
   "metadata": {},
   "outputs": [
    {
     "name": "stdout",
     "output_type": "stream",
     "text": [
      "* Running on local URL:  http://127.0.0.1:7860\n",
      "\n",
      "To create a public link, set `share=True` in `launch()`.\n"
     ]
    },
    {
     "data": {
      "text/html": [
       "<div><iframe src=\"http://127.0.0.1:7860/\" width=\"100%\" height=\"500\" allow=\"autoplay; camera; microphone; clipboard-read; clipboard-write;\" frameborder=\"0\" allowfullscreen></iframe></div>"
      ],
      "text/plain": [
       "<IPython.core.display.HTML object>"
      ]
     },
     "metadata": {},
     "output_type": "display_data"
    }
   ],
   "source": [
    "demo = gr.ChatInterface(chatbot, type=\"messages\", autofocus=False)\n",
    "\n",
    "if __name__ == \"__main__\":\n",
    "    demo.launch()"
   ]
  }
 ],
 "metadata": {
  "kernelspec": {
   "display_name": "localllm",
   "language": "python",
   "name": "python3"
  },
  "language_info": {
   "codemirror_mode": {
    "name": "ipython",
    "version": 3
   },
   "file_extension": ".py",
   "mimetype": "text/x-python",
   "name": "python",
   "nbconvert_exporter": "python",
   "pygments_lexer": "ipython3",
   "version": "3.12.3"
  }
 },
 "nbformat": 4,
 "nbformat_minor": 2
}
