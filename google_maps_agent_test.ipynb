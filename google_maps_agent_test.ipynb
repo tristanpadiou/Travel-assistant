{
 "cells": [
  {
   "cell_type": "code",
   "execution_count": 1,
   "metadata": {},
   "outputs": [
    {
     "name": "stderr",
     "output_type": "stream",
     "text": [
      "c:\\Users\\tristan\\localllm\\Lib\\site-packages\\tqdm\\auto.py:21: TqdmWarning: IProgress not found. Please update jupyter and ipywidgets. See https://ipywidgets.readthedocs.io/en/stable/user_install.html\n",
      "  from .autonotebook import tqdm as notebook_tqdm\n"
     ]
    },
    {
     "data": {
      "text/plain": [
       "True"
      ]
     },
     "execution_count": 1,
     "metadata": {},
     "output_type": "execute_result"
    }
   ],
   "source": [
    "import pandas as pd\n",
    "from langchain_google_genai import ChatGoogleGenerativeAI\n",
    "from langchain.agents import initialize_agent, load_tools\n",
    "from langchain.tools import Tool,tool,StructuredTool\n",
    "from langchain.prompts import PromptTemplate\n",
    "from langgraph.graph import StateGraph, START, END\n",
    "from langgraph.graph.message import add_messages\n",
    "from langgraph.prebuilt import ToolNode, tools_condition,InjectedState\n",
    "from langchain_core.messages import (\n",
    "    SystemMessage,\n",
    "    HumanMessage,\n",
    "    AIMessage,\n",
    "    ToolMessage,\n",
    ")\n",
    "from langgraph.types import Command, interrupt\n",
    "from langgraph.checkpoint.memory import MemorySaver\n",
    "from langchain_core.tools.base import InjectedToolCallId\n",
    "\n",
    "#structuring\n",
    "import ast\n",
    "\n",
    "from dataclasses import dataclass\n",
    "from typing_extensions import TypedDict\n",
    "from typing import Annotated, Literal\n",
    "from pydantic import BaseModel, Field\n",
    "#get graph visuals\n",
    "from IPython.display import Image, display\n",
    "from langchain_core.runnables.graph import CurveStyle, MermaidDrawMethod, NodeStyles\n",
    "\n",
    "import pytz\n",
    "from datetime import datetime\n",
    "import os\n",
    "import requests\n",
    "import json\n",
    "from dotenv import load_dotenv \n",
    "from os import listdir\n",
    "from os.path import isfile, join\n",
    "import pipreqs\n",
    "\n",
    "#getting current location\n",
    "import geocoder\n",
    "\n",
    "# flask-san\n",
    "from flask import Flask, render_template, request\n",
    "\n",
    "load_dotenv()"
   ]
  },
  {
   "cell_type": "code",
   "execution_count": 2,
   "metadata": {},
   "outputs": [],
   "source": [
    "GOOGLE_API_KEY=os.getenv('google_api_key')"
   ]
  },
  {
   "cell_type": "code",
   "execution_count": 3,
   "metadata": {},
   "outputs": [],
   "source": [
    "GEMINI_MODEL='gemini-1.5-flash'\n",
    "llm = ChatGoogleGenerativeAI(google_api_key=GOOGLE_API_KEY, model=GEMINI_MODEL, temperature=0.3)"
   ]
  },
  {
   "cell_type": "code",
   "execution_count": 4,
   "metadata": {},
   "outputs": [],
   "source": [
    "class State(TypedDict):\n",
    "  \"\"\"\n",
    "  A dictionnary representing the state of the agent.\n",
    "  \"\"\"\n",
    "  messages: Annotated[list, add_messages]\n",
    "\n",
    "  #location data\n",
    "  latitude: str\n",
    "  longitude: str\n",
    "  address: str\n",
    "\n",
    "  #results from place search\n",
    "  places: dict"
   ]
  },
  {
   "cell_type": "code",
   "execution_count": 5,
   "metadata": {},
   "outputs": [],
   "source": [
    "def get_current_location_node(state: State):\n",
    "    current_location = geocoder.ip(\"me\")\n",
    "    if current_location.latlng:\n",
    "        latitude, longitude = current_location.latlng\n",
    "        address = current_location.address\n",
    "        return {'latitude':latitude, 'longitude':longitude, 'address':address}\n",
    "    else:\n",
    "        return None"
   ]
  },
  {
   "cell_type": "code",
   "execution_count": 6,
   "metadata": {},
   "outputs": [],
   "source": [
    "@tool\n",
    "def get_current_location_tool(tool_call_id: Annotated[str, InjectedToolCallId]):\n",
    "    \"\"\"\n",
    "    Tool to get the current location of the user.\n",
    "    agrs: none\n",
    "    \"\"\"\n",
    "    current_location = geocoder.ip(\"me\")\n",
    "    if current_location.latlng:\n",
    "        latitude, longitude = current_location.latlng\n",
    "        address = current_location.address\n",
    "        return Command(update={'messages':[ToolMessage(F'The current location is: address:{address}, longitude:{longitude},lattitude:{latitude}', tool_call_id=tool_call_id)],\n",
    "                               'latitude':latitude,\n",
    "                                'longitude':longitude,\n",
    "                                'address':address})\n",
    "    else:\n",
    "        return None"
   ]
  },
  {
   "cell_type": "code",
   "execution_count": 7,
   "metadata": {},
   "outputs": [],
   "source": [
    "@tool\n",
    "def find_places_near_me(query:str,state: Annotated[dict, InjectedState],tool_call_id: Annotated[str, InjectedToolCallId]):\n",
    "    \"\"\"\n",
    "    Use this tool to find locations near me.\n",
    "    args: query - has to be one of the following \"car_dealer\", \"car_rental\", \"car_repair\", \"car_wash\", \n",
    "    \"electric_vehicle_charging_station\", \"gas_station\", \"parking\", \"rest_stop\", \n",
    "    \"corporate_office\", \"farm\", \"ranch\", \"art_gallery\", \"art_studio\", \"auditorium\", \n",
    "    \"cultural_landmark\", \"historical_place\", \"monument\", \"museum\", \"performing_arts_theater\", \n",
    "    \"sculpture\", \"library\", \"preschool\", \"primary_school\", \"school\", \"secondary_school\", \n",
    "    \"university\", \"adventure_sports_center\", \"amphitheatre\", \"amusement_center\", \"amusement_park\", \n",
    "    \"aquarium\", \"banquet_hall\", \"barbecue_area\", \"botanical_garden\", \"bowling_alley\", \"casino\", \n",
    "    \"childrens_camp\", \"comedy_club\", \"community_center\", \"concert_hall\", \"convention_center\", \n",
    "    \"cultural_center\", \"cycling_park\", \"dance_hall\", \"dog_park\", \"event_venue\", \"ferris_wheel\", \n",
    "    \"garden\", \"hiking_area\", \"historical_landmark\", \"internet_cafe\", \"karaoke\", \"marina\", \n",
    "    \"movie_rental\", \"movie_theater\", \"national_park\", \"night_club\", \"observation_deck\", \n",
    "    \"off_roading_area\", \"opera_house\", \"park\", \"philharmonic_hall\", \"picnic_ground\", \"planetarium\", \n",
    "    \"plaza\", \"roller_coaster\", \"skateboard_park\", \"state_park\", \"tourist_attraction\", \"video_arcade\", \n",
    "    \"visitor_center\", \"water_park\", \"wedding_venue\", \"wildlife_park\", \"wildlife_refuge\", \"zoo\", \n",
    "    \"public_bath\", \"public_bathroom\", \"stable\", \"accounting\", \"atm\", \"bank\", \"acai_shop\", \n",
    "    \"afghani_restaurant\", \"african_restaurant\", \"american_restaurant\", \"asian_restaurant\", \n",
    "    \"bagel_shop\", \"bakery\", \"bar\", \"bar_and_grill\", \"barbecue_restaurant\", \"brazilian_restaurant\", \n",
    "    \"breakfast_restaurant\", \"brunch_restaurant\", \"buffet_restaurant\", \"cafe\", \"cafeteria\", \n",
    "    \"candy_store\", \"cat_cafe\", \"chinese_restaurant\", \"chocolate_factory\", \"chocolate_shop\", \n",
    "    \"coffee_shop\", \"confectionery\", \"deli\", \"dessert_restaurant\", \"dessert_shop\", \"diner\", \n",
    "    \"dog_cafe\", \"donut_shop\", \"fast_food_restaurant\", \"fine_dining_restaurant\", \"food_court\", \n",
    "    \"french_restaurant\", \"greek_restaurant\", \"hamburger_restaurant\", \"ice_cream_shop\", \"indian_restaurant\", \n",
    "    \"indonesian_restaurant\", \"italian_restaurant\", \"japanese_restaurant\", \"juice_shop\", \n",
    "    \"korean_restaurant\", \"lebanese_restaurant\", \"meal_delivery\", \"meal_takeaway\", \n",
    "    \"mediterranean_restaurant\", \"mexican_restaurant\", \"middle_eastern_restaurant\", \"pizza_restaurant\", \n",
    "    \"pub\", \"ramen_restaurant\", \"restaurant\", \"sandwich_shop\", \"seafood_restaurant\", \"spanish_restaurant\", \n",
    "    \"steak_house\", \"sushi_restaurant\", \"tea_house\", \"thai_restaurant\", \"turkish_restaurant\", \n",
    "    \"vegan_restaurant\", \"vegetarian_restaurant\", \"vietnamese_restaurant\", \"wine_bar\", \n",
    "    \"administrative_area_level_1\", \"administrative_area_level_2\", \"country\", \"locality\", \"postal_code\", \n",
    "    \"school_district\", \"city_hall\", \"courthouse\", \"embassy\", \"fire_station\", \"government_office\", \n",
    "    \"local_government_office\", \"neighborhood_police_station\", \"police\", \"post_office\", \"chiropractor\", \n",
    "    \"dental_clinic\", \"dentist\", \"doctor\", \"drugstore\", \"hospital\", \"massage\", \"medical_lab\", \"pharmacy\", \n",
    "    \"physiotherapist\", \"sauna\", \"skin_care_clinic\", \"spa\", \"tanning_studio\", \"wellness_center\", \"yoga_studio\", \n",
    "    \"apartment_building\", \"apartment_complex\", \"condominium_complex\", \"housing_complex\", \"bed_and_breakfast\", \n",
    "    \"budget_japanese_inn\", \"campground\", \"camping_cabin\", \"cottage\", \"extended_stay_hotel\", \"farmstay\", \n",
    "    \"guest_house\", \"hostel\", \"hotel\", \"inn\", \"japanese_inn\", \"mobile_home_park\", \"motel\", \"private_guest_room\", \n",
    "    \"resort_hotel\", \"rv_park\", \"beach\", \"church\", \"hindu_temple\", \"mosque\", \"synagogue\", \"astrologer\", \n",
    "    \"barber_shop\", \"beautician\", \"beauty_salon\", \"body_art_service\", \"catering_service\", \"cemetery\", \n",
    "    \"child_care_agency\", \"consultant\", \"courier_service\", \"electrician\", \"florist\", \"food_delivery\", \"foot_care\", \n",
    "    \"funeral_home\", \"hair_care\", \"hair_salon\", \"insurance_agency\", \"laundry\", \"lawyer\", \"locksmith\", \n",
    "    \"makeup_artist\", \"moving_company\", \"nail_salon\", \"painter\", \"plumber\", \"psychic\", \"real_estate_agency\", \n",
    "    \"roofing_contractor\", \"storage\", \"summer_camp_organizer\", \"tailor\", \"telecommunications_service_provider\", \n",
    "    \"tour_agency\", \"tourist_information_center\", \"travel_agency\", \"veterinary_care\", \"asian_grocery_store\", \n",
    "    \"auto_parts_store\", \"bicycle_store\", \"book_store\", \"butcher_shop\", \"cell_phone_store\", \"clothing_store\", \n",
    "    \"convenience_store\", \"department_store\", \"discount_store\", \"electronics_store\", \"food_store\", \n",
    "    \"furniture_store\", \"gift_shop\", \"grocery_store\", \"hardware_store\", \"home_goods_store\", \"home_improvement_store\", \n",
    "    \"jewelry_store\", \"liquor_store\", \"market\", \"pet_store\", \"shoe_store\", \"shopping_mall\", \"sporting_goods_store\", \n",
    "    \"store\", \"supermarket\", \"warehouse_store\", \"wholesaler\", \"arena\", \"athletic_field\", \"fishing_charter\", \n",
    "    \"fishing_pond\", \"fitness_center\", \"golf_course\", \"gym\", \"ice_skating_rink\", \"playground\", \"ski_resort\", \n",
    "    \"sports_activity_location\", \"sports_club\", \"sports_coaching\", \"sports_complex\", \"stadium\", \"swimming_pool\", \n",
    "    \"airport\", \"airstrip\", \"bus_station\", \"bus_stop\", \"ferry_terminal\", \"heliport\", \"international_airport\", \n",
    "    \"light_rail_station\", \"park_and_ride\", \"subway_station\", \"taxi_stand\", \"train_station\", \"transit_depot\", \n",
    "    \"transit_station\", \"truck_stop\"\n",
    "    \"\"\"\n",
    "    try:\n",
    "        my_longitude=state['longitude']\n",
    "        my_latitude=state['latitude']\n",
    "        response=requests.get(f'https://maps.googleapis.com/maps/api/place/nearbysearch/json?location={my_latitude}%2C{my_longitude}&radius=500&type={query}&key={GOOGLE_API_KEY}')\n",
    "        data=response.json()\n",
    "        places={}\n",
    "        for place in data['results']:\n",
    "            try:\n",
    "                name=place['name']\n",
    "                rating=place['rating']\n",
    "                id=place['place_id']\n",
    "                response=requests.get(f'https://places.googleapis.com/v1/places/{id}?fields=googleMapsLinks.placeUri&key={GOOGLE_API_KEY}')\n",
    "                data=response.json()\n",
    "                link=data['googleMapsLinks']['placeUri']\n",
    "                places[name]= {'rating':rating,\n",
    "                            'google_maps_link':link,\n",
    "                            }\n",
    "            except Exception as e:\n",
    "                f'Error: {e}'\n",
    "                \n",
    "        return Command(update={'places':places,\n",
    "                                'messages':[ToolMessage(f'I found {len(places)} places', tool_call_id=tool_call_id)]})\n",
    "    except:\n",
    "        return  Command(update={'messages':[ToolMessage('Could not find places based on the query', tool_call_id=tool_call_id)]})"
   ]
  },
  {
   "cell_type": "code",
   "execution_count": 8,
   "metadata": {},
   "outputs": [],
   "source": [
    "@tool\n",
    "def look_for_places(query: str, tool_call_id: Annotated[str, InjectedToolCallId]):\n",
    "    \"\"\"\n",
    "    Tool to look for places based on the user query and location.\n",
    "    Use this tool for more complex user queries like sentences, and if the location is specified in the query.\n",
    "    Places includes restaurants, bars, speakeasy, games, anything.\n",
    "    args: query - the query has to be in this format eg.Spicy%20Vegetarian%20Food%20in%20Sydney%20Australia.\n",
    "    Alaways include the links in the respons, but not longitude or latitude\n",
    "    \"\"\"\n",
    "    try:\n",
    "        response=requests.get(f'https://maps.googleapis.com/maps/api/place/textsearch/json?query={query}?&key={GOOGLE_API_KEY}')\n",
    "        data=response.json()\n",
    "        places={}\n",
    "        for place in data['results']:\n",
    "            try:\n",
    "                name=place['name']\n",
    "                rating=place['rating']\n",
    "                id=place['place_id']\n",
    "                price_level=place['price_level']\n",
    "                address=place['formatted_address']\n",
    "                lattitude=place['geometry']['location']['lat']\n",
    "                longitude=place['geometry']['location']['lng']\n",
    "                response=requests.get(f'https://places.googleapis.com/v1/places/{id}?fields=googleMapsLinks.placeUri&key={GOOGLE_API_KEY}')\n",
    "                data=response.json()\n",
    "                link=data['googleMapsLinks']['placeUri']\n",
    "                places[name]= {'address': address,\n",
    "                                'rating':rating,\n",
    "                                'Price_level':price_level,\n",
    "                                'google_maps_link':link,\n",
    "                                'longitude':longitude,\n",
    "                                'latitude':lattitude}\n",
    "            except Exception as e:\n",
    "                f'Error: {e}'\n",
    "                \n",
    "        return Command(update={'places':places,\n",
    "                               'messages':[ToolMessage(f'I found {len(places)} places', tool_call_id=tool_call_id)]})\n",
    "    except Exception as e:\n",
    "        return f'Error: error'"
   ]
  },
  {
   "cell_type": "code",
   "execution_count": 17,
   "metadata": {},
   "outputs": [],
   "source": [
    "@tool\n",
    "def show_places_found(state: Annotated[dict, InjectedState]):\n",
    "    \"\"\"\n",
    "    Tool to get the places found and to show/display them.\n",
    "    It has links within that can also be used for directions\n",
    "    args: none\n",
    "    \"\"\"\n",
    "    return state['places']"
   ]
  },
  {
   "cell_type": "code",
   "execution_count": null,
   "metadata": {},
   "outputs": [],
   "source": [
    "class maps_agent:\n",
    "    def __init__(self,llm: any):\n",
    "        self.agent=self._setup(llm)\n",
    "        \n",
    "\n",
    "    def _setup(self,llm):\n",
    "        langgraph_tools=[get_current_location_tool,look_for_places, find_places_near_me, show_places_found]\n",
    "\n",
    "\n",
    "        graph_builder = StateGraph(State)\n",
    "        \n",
    "        # Modification: tell the LLM which tools it can call\n",
    "        llm_with_tools = llm.bind_tools(langgraph_tools)\n",
    "        tool_node = ToolNode(tools=langgraph_tools)\n",
    "        def chatbot(state: State):\n",
    "            \"\"\" travel assistant that answers user questions about their trip.\n",
    "            Depending on the request, leverage which tools to use if necessary.\"\"\"\n",
    "            return {\"messages\": [llm_with_tools.invoke(state['messages'])]}\n",
    "\n",
    "        graph_builder.add_node(\"chatbot\", chatbot)\n",
    "\n",
    "        graph_builder.add_node('current_location',get_current_location_node)\n",
    "        graph_builder.add_node(\"tools\", tool_node)\n",
    "        # Any time a tool is called, we return to the chatbot to decide the next step\n",
    "        graph_builder.set_entry_point(\"current_location\")\n",
    "        graph_builder.add_edge('current_location','chatbot')\n",
    "        graph_builder.add_edge(\"tools\", \"chatbot\")\n",
    "        graph_builder.add_conditional_edges(\n",
    "            \"chatbot\",\n",
    "            tools_condition,\n",
    "        )\n",
    "        memory=MemorySaver()\n",
    "        graph=graph_builder.compile(checkpointer=memory)\n",
    "        return graph\n",
    "    \n",
    "    def display_graph(self):\n",
    "        return display(\n",
    "            Image(\n",
    "                    self.agent.get_graph().draw_mermaid_png(\n",
    "                        draw_method=MermaidDrawMethod.API,\n",
    "                    )\n",
    "                )\n",
    "            )\n",
    "    def get_state(self, state_val:str):\n",
    "        config = {\"configurable\": {\"thread_id\": \"1\"}}\n",
    "        return self.agent.get_state(config).values[state_val]\n",
    "    \n",
    "    def stream(self,input:str):\n",
    "        config = {\"configurable\": {\"thread_id\": \"1\"}}\n",
    "        input_message = HumanMessage(content=input)\n",
    "        for event in self.agent.stream({\"messages\": [input_message]}, config, stream_mode=\"values\"):\n",
    "            event[\"messages\"][-1].pretty_print()\n",
    "\n",
    "    def chat(self,input:str):\n",
    "        config = {\"configurable\": {\"thread_id\": \"1\"}}\n",
    "        response=self.agent.invoke({'messages':HumanMessage(content=str(input))},config)\n",
    "        return response['messages'][-1].content"
   ]
  },
  {
   "cell_type": "code",
   "execution_count": 11,
   "metadata": {},
   "outputs": [],
   "source": [
    "test=maps_agent(llm)"
   ]
  },
  {
   "cell_type": "code",
   "execution_count": 12,
   "metadata": {},
   "outputs": [
    {
     "data": {
      "image/png": "[encoded data removed]",
      "text/plain": [
       "<IPython.core.display.Image object>"
      ]
     },
     "metadata": {},
     "output_type": "display_data"
    }
   ],
   "source": [
    "test.display_graph()"
   ]
  },
  {
   "cell_type": "code",
   "execution_count": 13,
   "metadata": {},
   "outputs": [
    {
     "name": "stdout",
     "output_type": "stream",
     "text": [
      "================================\u001b[1m Human Message \u001b[0m=================================\n",
      "\n",
      "find some vegetarian restaurants near me\n",
      "================================\u001b[1m Human Message \u001b[0m=================================\n",
      "\n",
      "find some vegetarian restaurants near me\n",
      "==================================\u001b[1m Ai Message \u001b[0m==================================\n",
      "Tool Calls:\n",
      "  find_places_near_me (f75f444c-e46a-4ba3-a08f-919fa8efe1d2)\n",
      " Call ID: f75f444c-e46a-4ba3-a08f-919fa8efe1d2\n",
      "  Args:\n",
      "    query: vegetarian_restaurant\n",
      "=================================\u001b[1m Tool Message \u001b[0m=================================\n",
      "Name: find_places_near_me\n",
      "\n",
      "I found 17 places\n",
      "==================================\u001b[1m Ai Message \u001b[0m==================================\n",
      "\n",
      "I found 17 vegetarian restaurants near you.  To see the details including links, please use the `show_places_found` tool.\n"
     ]
    }
   ],
   "source": [
    "test.stream('find some vegetarian restaurants near me')"
   ]
  },
  {
   "cell_type": "code",
   "execution_count": 16,
   "metadata": {},
   "outputs": [
    {
     "data": {
      "text/plain": [
       "[HumanMessage(content='find some vegetarian restaurants near me', additional_kwargs={}, response_metadata={}, id='91d4953d-ae6d-4e16-86ff-fbb64208e07b'),\n",
       " AIMessage(content='', additional_kwargs={'function_call': {'name': 'find_places_near_me', 'arguments': '{\"query\": \"vegetarian_restaurant\"}'}}, response_metadata={'prompt_feedback': {'block_reason': 0, 'safety_ratings': []}, 'finish_reason': 'STOP', 'safety_ratings': []}, id='run-9dc9bdec-d172-4adc-842f-4a19133a9ff8-0', tool_calls=[{'name': 'find_places_near_me', 'args': {'query': 'vegetarian_restaurant'}, 'id': 'f75f444c-e46a-4ba3-a08f-919fa8efe1d2', 'type': 'tool_call'}], usage_metadata={'input_tokens': 1790, 'output_tokens': 11, 'total_tokens': 1801, 'input_token_details': {'cache_read': 0}}),\n",
       " ToolMessage(content='I found 17 places', name='find_places_near_me', id='7a0c0c29-0e8f-42b9-b412-9767a6be01b9', tool_call_id='f75f444c-e46a-4ba3-a08f-919fa8efe1d2'),\n",
       " AIMessage(content='I found 17 vegetarian restaurants near you.  To see the details including links, please use the `show_places_found` tool.', additional_kwargs={}, response_metadata={'prompt_feedback': {'block_reason': 0, 'safety_ratings': []}, 'finish_reason': 'STOP', 'safety_ratings': []}, id='run-55e03c2f-cb10-48f4-b87d-28e5100b6a21-0', usage_metadata={'input_tokens': 1815, 'output_tokens': 31, 'total_tokens': 1846, 'input_token_details': {'cache_read': 0}}),\n",
       " HumanMessage(content='how do i go to the first one', additional_kwargs={}, response_metadata={}, id='330c09b4-3b75-4df6-83f6-4ce9344f9ffe'),\n",
       " AIMessage(content='', additional_kwargs={'function_call': {'name': 'show_places_found', 'arguments': '{}'}}, response_metadata={'prompt_feedback': {'block_reason': 0, 'safety_ratings': []}, 'finish_reason': 'STOP', 'safety_ratings': []}, id='run-f9c65bd9-9d0c-4134-8c65-2ff2c6a1c170-0', tool_calls=[{'name': 'show_places_found', 'args': {}, 'id': '2b9e2548-2c93-434b-b31b-1ed6524303e3', 'type': 'tool_call'}], usage_metadata={'input_tokens': 1853, 'output_tokens': 5, 'total_tokens': 1858, 'input_token_details': {'cache_read': 0}}),\n",
       " ToolMessage(content='{\"Sonder Duane Street\": {\"rating\": 4.1, \"google_maps_link\": \"https://maps.google.com/?cid=8908203608665207728\"}, \"Smyth Tribeca\": {\"rating\": 4.3, \"google_maps_link\": \"https://maps.google.com/?cid=1964802920679818903\"}, \"The Frederick Hotel\": {\"rating\": 4.2, \"google_maps_link\": \"https://maps.google.com/?cid=10885785300125080766\"}, \"Millennium Downtown New York\": {\"rating\": 3.8, \"google_maps_link\": \"https://maps.google.com/?cid=17735751118331707919\"}, \"AT&T Store\": {\"rating\": 4, \"google_maps_link\": \"https://maps.google.com/?cid=14433121799402135839\"}, \"New York City Hall\": {\"rating\": 4.3, \"google_maps_link\": \"https://maps.google.com/?cid=9159908730578468871\"}, \"Equinox Tribeca\": {\"rating\": 3.5, \"google_maps_link\": \"https://maps.google.com/?cid=17651595508310111279\"}, \"SCORE\": {\"rating\": 4.8, \"google_maps_link\": \"https://maps.google.com/?cid=13240856885679130917\"}, \"Code\": {\"rating\": 5, \"google_maps_link\": \"https://maps.google.com/?cid=7343028000253351427\"}, \"US Air Force Recruiting\": {\"rating\": 4.2, \"google_maps_link\": \"https://maps.google.com/?cid=11043409603558528819\"}, \"Foley Square\": {\"rating\": 4.4, \"google_maps_link\": \"https://maps.google.com/?cid=14843453725084175644\"}, \"The Woolworth Building\": {\"rating\": 4.5, \"google_maps_link\": \"https://maps.google.com/?cid=8397432049140688342\"}, \"The Odeon\": {\"rating\": 4.5, \"google_maps_link\": \"https://maps.google.com/?cid=16558414971469607271\"}, \"FlashDancers Downtown\": {\"rating\": 3.9, \"google_maps_link\": \"https://maps.google.com/?cid=4415834895554461760\"}, \"Le Pain Quotidien\": {\"rating\": 4.2, \"google_maps_link\": \"https://maps.google.com/?cid=15328856678090202481\"}, \"Blood Manor\": {\"rating\": 3.8, \"google_maps_link\": \"https://maps.google.com/?cid=1815862723366106755\"}, \"The Law Office of Cheryl R. David\": {\"rating\": 4.4, \"google_maps_link\": \"https://maps.google.com/?cid=2245086704914610804\"}}', name='show_places_found', id='37be295c-f2b4-4d34-85eb-020753e0f52e', tool_call_id='2b9e2548-2c93-434b-b31b-1ed6524303e3'),\n",
       " AIMessage(content='I need more information to help you get to the first restaurant. The `show_places_found` tool returned a list of places, but it doesn\\'t specify which one is the \"first\" vegetarian restaurant.  The response includes Google Maps links for each location. To get directions, you\\'ll need to select the restaurant from the list and use the provided Google Maps link.', additional_kwargs={}, response_metadata={'prompt_feedback': {'block_reason': 0, 'safety_ratings': []}, 'finish_reason': 'STOP', 'safety_ratings': []}, id='run-d1d8a06f-f4b9-4eaa-9f1f-1bf44ac351e1-0', usage_metadata={'input_tokens': 2529, 'output_tokens': 79, 'total_tokens': 2608, 'input_token_details': {'cache_read': 0}})]"
      ]
     },
     "execution_count": 16,
     "metadata": {},
     "output_type": "execute_result"
    }
   ],
   "source": [
    "test.get_state('messages')"
   ]
  }
 ],
 "metadata": {
  "kernelspec": {
   "display_name": "localllm",
   "language": "python",
   "name": "python3"
  },
  "language_info": {
   "codemirror_mode": {
    "name": "ipython",
    "version": 3
   },
   "file_extension": ".py",
   "mimetype": "text/x-python",
   "name": "python",
   "nbconvert_exporter": "python",
   "pygments_lexer": "ipython3",
   "version": "3.12.3"
  }
 },
 "nbformat": 4,
 "nbformat_minor": 2
}
