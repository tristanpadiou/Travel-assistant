{
 "cells": [
  {
   "cell_type": "code",
   "execution_count": 1,
   "metadata": {},
   "outputs": [
    {
     "name": "stderr",
     "output_type": "stream",
     "text": [
      "c:\\Users\\padio\\Desktop\\important\\AI portfolio\\Travel-assistant\\.venv\\Lib\\site-packages\\tqdm\\auto.py:21: TqdmWarning: IProgress not found. Please update jupyter and ipywidgets. See https://ipywidgets.readthedocs.io/en/stable/user_install.html\n",
      "  from .autonotebook import tqdm as notebook_tqdm\n"
     ]
    },
    {
     "data": {
      "text/plain": [
       "True"
      ]
     },
     "execution_count": 1,
     "metadata": {},
     "output_type": "execute_result"
    }
   ],
   "source": [
    "import pandas as pd\n",
    "from langchain_google_genai import ChatGoogleGenerativeAI\n",
    "from langgraph.graph import StateGraph, START, END\n",
    "\n",
    "from langchain_core.messages import (\n",
    "    SystemMessage,\n",
    "    HumanMessage,\n",
    "    AIMessage,\n",
    "    ToolMessage,\n",
    ")\n",
    "\n",
    "from langgraph.checkpoint.memory import MemorySaver\n",
    "\n",
    "from langchain_core.output_parsers import JsonOutputParser\n",
    "\n",
    "from typing_extensions import TypedDict\n",
    "\n",
    "\n",
    "#get graph visuals\n",
    "from IPython.display import Image, display\n",
    "from langchain_core.runnables.graph import MermaidDrawMethod\n",
    "from pydantic import BaseModel, Field\n",
    "import os\n",
    "\n",
    "\n",
    "from dataclasses import dataclass\n",
    "from typing_extensions import TypedDict\n",
    "from typing import Annotated, Literal, Optional\n",
    "\n",
    "\n",
    "#getting current location\n",
    "import geocoder\n",
    "import os\n",
    "import requests\n",
    "import json\n",
    "from dotenv import load_dotenv \n",
    "from os import listdir\n",
    "from os.path import isfile, join\n",
    "load_dotenv()\n",
    "\n"
   ]
  },
  {
   "cell_type": "code",
   "execution_count": 2,
   "metadata": {},
   "outputs": [],
   "source": [
    "GOOGLE_API_KEY=os.getenv('google_api_key')"
   ]
  },
  {
   "cell_type": "code",
   "execution_count": 3,
   "metadata": {},
   "outputs": [],
   "source": [
    "GEMINI_MODEL='gemini-1.5-flash'\n",
    "llm = ChatGoogleGenerativeAI(google_api_key=GOOGLE_API_KEY, model=GEMINI_MODEL, temperature=0.3)"
   ]
  },
  {
   "cell_type": "code",
   "execution_count": 4,
   "metadata": {},
   "outputs": [],
   "source": [
    "class State(TypedDict):\n",
    "  \"\"\"\n",
    "  A dictionnary representing the state of the agent.\n",
    "  \"\"\"\n",
    "  node_message: str\n",
    "  query: str\n",
    "  #location data\n",
    "  latitude: str\n",
    "  longitude: str\n",
    "  address: str\n",
    "  place_query: str\n",
    "  #results from place search\n",
    "  places: dict\n",
    "  route:str"
   ]
  },
  {
   "cell_type": "code",
   "execution_count": null,
   "metadata": {},
   "outputs": [],
   "source": [
    "def get_current_location_node(state: State):\n",
    "    \"\"\"\n",
    "    Tool to get the current location of the user.\n",
    "    agrs: none\n",
    "    \"\"\"\n",
    "    current_location = geocoder.ip(\"me\")\n",
    "    if current_location.latlng:\n",
    "        latitude, longitude = current_location.latlng\n",
    "        address = current_location.address\n",
    "        return {\n",
    "            'latitude':latitude,\n",
    "            'longitude':longitude,\n",
    "            'address':address,\n",
    "            'node_message':{'latitude':latitude,\n",
    "            'longitude':longitude,\n",
    "            'address':address}}\n",
    "    else:\n",
    "        return {'node_message':'failed'}"
   ]
  },
  {
   "cell_type": "code",
   "execution_count": 6,
   "metadata": {},
   "outputs": [],
   "source": [
    "def router_node(state=State):\n",
    "    route=state.get('route')\n",
    "    if route=='look_for_places':\n",
    "        return 'to_look_for_places' \n",
    "    elif route=='current_loc':\n",
    "        return 'to_current_loc'"
   ]
  },
  {
   "cell_type": "code",
   "execution_count": 7,
   "metadata": {},
   "outputs": [],
   "source": [
    "\n",
    "def look_for_places_node(state: State):\n",
    "    \"\"\"\n",
    "    Tool to look for places based on the user query and location.\n",
    "    Use this tool for more complex user queries like sentences, and if the location is specified in the query.\n",
    "    Places includes restaurants, bars, speakeasy, games, anything.\n",
    "    args: query - the query has to be in this format eg.Spicy%20Vegetarian%20Food%20in%20Sydney%20Australia.\n",
    "    Alaways include the links in the respons, but not longitude or latitude\n",
    "    \"\"\"\n",
    "\n",
    "    try:\n",
    "        response=requests.get(f'https://maps.googleapis.com/maps/api/place/textsearch/json?query={state.get('place_query')}?&key={GOOGLE_API_KEY}')\n",
    "        data=response.json()\n",
    "        places={}\n",
    "        for place in data['results']:\n",
    "            try:\n",
    "                name=place['name']\n",
    "                rating=place['rating']\n",
    "                id=place['place_id']\n",
    "                price_level=place['price_level']\n",
    "                address=place['formatted_address']\n",
    "                lattitude=place['geometry']['location']['lat']\n",
    "                longitude=place['geometry']['location']['lng']\n",
    "                response=requests.get(f'https://places.googleapis.com/v1/places/{id}?fields=googleMapsLinks.placeUri&key={GOOGLE_API_KEY}')\n",
    "                data=response.json()\n",
    "                link=data['googleMapsLinks']['placeUri']\n",
    "                places[name]= {'address': address,\n",
    "                                'rating':rating,\n",
    "                                'Price_level':price_level,\n",
    "                                'google_maps_link':link,\n",
    "                                'longitude':longitude,\n",
    "                                'latitude':lattitude}\n",
    "            except Exception as e:\n",
    "                f'Error: {e}'\n",
    "                \n",
    "        return {'places':places,\n",
    "                'node_message':places}\n",
    "    except Exception as e:\n",
    "        return {'node_message': e}"
   ]
  },
  {
   "cell_type": "code",
   "execution_count": null,
   "metadata": {},
   "outputs": [],
   "source": [
    "class Maps_agent:\n",
    "    def __init__(self,llm: any):\n",
    "        self.agent=self._setup(llm)\n",
    "        \n",
    "\n",
    "    def _setup(self,llm):\n",
    "        # langgraph_tools=[get_current_location_tool,look_for_places, show_places_found]\n",
    "        def agent_node(state:State):\n",
    "            class Form(BaseModel):\n",
    "                route: str = Field(description= 'return current_loc or look_for_places')\n",
    "                place_query: Optional[str] = Field(description= ' if the query is to look for a place return the place_query has to be in this format eg.Spicy%20Vegetarian%20Food%20in%20Sydney%20Australia')\n",
    "            parser=JsonOutputParser(pydantic_object=Form)\n",
    "            instruction=parser.get_format_instructions()\n",
    "            response=llm.invoke([HumanMessage(content=f'based on this query:{state['query']}, return current_loc to get the current location or look_for_places for the route '+'\\n\\n'+instruction)])\n",
    "            response=parser.parse(response.content)\n",
    "            route=response.get('route')\n",
    "            place_query=response.get('place_query')\n",
    "            return {'route':route,\n",
    "                    'place_query': place_query}\n",
    "\n",
    "        graph_builder = StateGraph(State)\n",
    "        \n",
    "\n",
    "        graph_builder.add_node('current_loc', get_current_location_node)\n",
    "        graph_builder.add_node('look_for_places',look_for_places_node)\n",
    "        \n",
    "        graph_builder.add_node('agent',agent_node)\n",
    "        graph_builder.add_edge(START,'agent')\n",
    "        graph_builder.add_conditional_edges('agent',router_node,{'to_current_loc':'current_loc', 'to_look_for_places':'look_for_places'})\n",
    "        graph_builder.add_edge('current_loc',END)\n",
    "        graph_builder.add_edge('look_for_places',END)\n",
    "        memory=MemorySaver()\n",
    "        graph=graph_builder.compile(checkpointer=memory)\n",
    "        return graph\n",
    "    \n",
    "    def display_graph(self):\n",
    "        return display(\n",
    "            Image(\n",
    "                    self.agent.get_graph().draw_mermaid_png(\n",
    "                        draw_method=MermaidDrawMethod.API,\n",
    "                    )\n",
    "                )\n",
    "            )\n",
    "    def get_state(self, state_val:str):\n",
    "        config = {\"configurable\": {\"thread_id\": \"1\"}}\n",
    "        return self.agent.get_state(config).values[state_val]\n",
    "    \n",
    "    def chat(self,input:str):\n",
    "        config = {\"configurable\": {\"thread_id\": \"1\"}}\n",
    "        response=self.agent.invoke({'query':input},config)\n",
    "        return response.get('node_message')\n",
    "\n",
    "    def stream(self,input:str):\n",
    "        config = {\"configurable\": {\"thread_id\": \"1\"}}\n",
    "        for event in self.agent.stream({'query':input}, config, stream_mode=\"updates\"):\n",
    "            print(event)"
   ]
  },
  {
   "cell_type": "code",
   "execution_count": 9,
   "metadata": {},
   "outputs": [],
   "source": [
    "test=Maps_agent(llm)"
   ]
  },
  {
   "cell_type": "code",
   "execution_count": 10,
   "metadata": {},
   "outputs": [
    {
     "data": {
      "image/png": "[encoded data removed]",
      "text/plain": [
       "<IPython.core.display.Image object>"
      ]
     },
     "metadata": {},
     "output_type": "display_data"
    }
   ],
   "source": [
    "test.display_graph()"
   ]
  },
  {
   "cell_type": "code",
   "execution_count": 11,
   "metadata": {},
   "outputs": [],
   "source": [
    "response=test.chat('find some cool cocktails bars in chelsea')"
   ]
  },
  {
   "cell_type": "code",
   "execution_count": 14,
   "metadata": {},
   "outputs": [
    {
     "data": {
      "text/plain": [
       "{'The Tippler': {'address': '425 W 15th St, New York, NY 10011, United States',\n",
       "  'rating': 4.2,\n",
       "  'Price_level': 2,\n",
       "  'google_maps_link': 'https://maps.google.com/?cid=64616661199206757',\n",
       "  'longitude': -74.0062542,\n",
       "  'latitude': 40.7423235},\n",
       " 'Bathtub Gin': {'address': '132 9th Ave, New York, NY 10011, United States',\n",
       "  'rating': 4.3,\n",
       "  'Price_level': 3,\n",
       "  'google_maps_link': 'https://maps.google.com/?cid=896988001401816655',\n",
       "  'longitude': -74.0032277,\n",
       "  'latitude': 40.743602},\n",
       " 'Jungle Bird': {'address': '174 8th Ave, New York, NY 10011, United States',\n",
       "  'rating': 4.4,\n",
       "  'Price_level': 2,\n",
       "  'google_maps_link': 'https://maps.google.com/?cid=9957527372034215284',\n",
       "  'longitude': -74.00022419999999,\n",
       "  'latitude': 40.7426188},\n",
       " 'Porchlight': {'address': '271 11th Ave, New York, NY 10001, United States',\n",
       "  'rating': 4.4,\n",
       "  'Price_level': 3,\n",
       "  'google_maps_link': 'https://maps.google.com/?cid=6606264242576959888',\n",
       "  'longitude': -74.0049906,\n",
       "  'latitude': 40.7520383},\n",
       " 'Raines Law Room Chelsea': {'address': '48 W 17th St, New York, NY 10011, United States',\n",
       "  'rating': 4.5,\n",
       "  'Price_level': 3,\n",
       "  'google_maps_link': 'https://maps.google.com/?cid=4976125517739140727',\n",
       "  'longitude': -73.9945406,\n",
       "  'latitude': 40.7387875},\n",
       " 'Twist Bar': {'address': '164 9th Ave, New York, NY 10011, United States',\n",
       "  'rating': 4.6,\n",
       "  'Price_level': 2,\n",
       "  'google_maps_link': 'https://maps.google.com/?cid=3974721589509901551',\n",
       "  'longitude': -74.0024,\n",
       "  'latitude': 40.7446407},\n",
       " 'Crown Alley': {'address': '263 W 19th St, New York, NY 10011, United States',\n",
       "  'rating': 4.7,\n",
       "  'Price_level': 2,\n",
       "  'google_maps_link': 'https://maps.google.com/?cid=9924757324835085126',\n",
       "  'longitude': -73.999678,\n",
       "  'latitude': 40.7428141},\n",
       " 'Trailer Park Lounge': {'address': '271 W 23rd St, New York, NY 10011, United States',\n",
       "  'rating': 4.2,\n",
       "  'Price_level': 2,\n",
       "  'google_maps_link': 'https://maps.google.com/?cid=11306369412708740045',\n",
       "  'longitude': -73.997813,\n",
       "  'latitude': 40.745325},\n",
       " 'The Copper Still Chelsea': {'address': '206 7th Ave, New York, NY 10011, United States',\n",
       "  'rating': 4.3,\n",
       "  'Price_level': 2,\n",
       "  'google_maps_link': 'https://maps.google.com/?cid=7820080996525559178',\n",
       "  'longitude': -73.9963839,\n",
       "  'latitude': 40.7433872},\n",
       " 'Courthaus Social': {'address': '2300 Clarendon Blvd, Arlington, VA 22201, United States',\n",
       "  'rating': 4.3,\n",
       "  'Price_level': 2,\n",
       "  'google_maps_link': 'https://maps.google.com/?cid=2301146536952707181',\n",
       "  'longitude': -77.0865354,\n",
       "  'latitude': 38.8901941},\n",
       " 'Bar B': {'address': '84 7th Ave, New York, NY 10011, United States',\n",
       "  'rating': 4.8,\n",
       "  'Price_level': 2,\n",
       "  'google_maps_link': 'https://maps.google.com/?cid=10637242216226721849',\n",
       "  'longitude': -73.9992022,\n",
       "  'latitude': 40.73953410000001}}"
      ]
     },
     "execution_count": 14,
     "metadata": {},
     "output_type": "execute_result"
    }
   ],
   "source": [
    "response.get('node_message')"
   ]
  },
  {
   "cell_type": "code",
   "execution_count": 13,
   "metadata": {},
   "outputs": [
    {
     "data": {
      "text/plain": [
       "'look_for_places'"
      ]
     },
     "execution_count": 13,
     "metadata": {},
     "output_type": "execute_result"
    }
   ],
   "source": [
    "test.get_state('route')"
   ]
  }
 ],
 "metadata": {
  "kernelspec": {
   "display_name": ".venv",
   "language": "python",
   "name": "python3"
  },
  "language_info": {
   "codemirror_mode": {
    "name": "ipython",
    "version": 3
   },
   "file_extension": ".py",
   "mimetype": "text/x-python",
   "name": "python",
   "nbconvert_exporter": "python",
   "pygments_lexer": "ipython3",
   "version": "3.13.2"
  }
 },
 "nbformat": 4,
 "nbformat_minor": 2
}
