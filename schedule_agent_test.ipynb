{
  "cells": [
    {
      "cell_type": "code",
      "execution_count": 1,
      "metadata": {
        "id": "d1mjWNd_6_N9"
      },
      "outputs": [
        {
          "name": "stderr",
          "output_type": "stream",
          "text": [
            "c:\\Users\\tristan\\localllm\\Lib\\site-packages\\tqdm\\auto.py:21: TqdmWarning: IProgress not found. Please update jupyter and ipywidgets. See https://ipywidgets.readthedocs.io/en/stable/user_install.html\n",
            "  from .autonotebook import tqdm as notebook_tqdm\n"
          ]
        },
        {
          "data": {
            "text/plain": [
              "True"
            ]
          },
          "execution_count": 1,
          "metadata": {},
          "output_type": "execute_result"
        }
      ],
      "source": [
        "import pandas as pd\n",
        "from langchain_google_genai import ChatGoogleGenerativeAI\n",
        "from langchain.agents import initialize_agent, load_tools\n",
        "from langchain.tools import Tool,tool,StructuredTool\n",
        "from langchain.prompts import PromptTemplate\n",
        "from langgraph.graph import StateGraph, START, END\n",
        "from langgraph.graph.message import add_messages\n",
        "from langgraph.prebuilt import ToolNode, tools_condition,InjectedState\n",
        "from langchain_core.messages import (\n",
        "    SystemMessage,\n",
        "    HumanMessage,\n",
        "    AIMessage,\n",
        "    ToolMessage,\n",
        ")\n",
        "from langgraph.types import Command, interrupt\n",
        "from langgraph.checkpoint.memory import MemorySaver\n",
        "from langchain_core.tools.base import InjectedToolCallId\n",
        "\n",
        "#structuring\n",
        "import ast\n",
        "\n",
        "from dataclasses import dataclass\n",
        "from typing_extensions import TypedDict\n",
        "from typing import Annotated, Literal\n",
        "from pydantic import BaseModel, Field\n",
        "#get graph visuals\n",
        "from IPython.display import Image, display\n",
        "from langchain_core.runnables.graph import CurveStyle, MermaidDrawMethod, NodeStyles\n",
        "\n",
        "import pytz\n",
        "from datetime import datetime\n",
        "import os\n",
        "import requests\n",
        "import json\n",
        "from dotenv import load_dotenv \n",
        "from os import listdir\n",
        "from os.path import isfile, join\n",
        "import pipreqs\n",
        "\n",
        "# flask-san\n",
        "from flask import Flask, render_template, request\n",
        "\n",
        "load_dotenv()"
      ]
    },
    {
      "cell_type": "code",
      "execution_count": 2,
      "metadata": {
        "id": "AskZSfPY7DSm"
      },
      "outputs": [],
      "source": [
        "GOOGLE_API_KEY=os.getenv('google_api_key')\n",
        "pse=os.getenv('pse')\n",
        "OPENWEATHERMAP_API_KEY=os.getenv('open_weather_key')\n",
        "os.environ['OPENWEATHERMAP_API_KEY']=OPENWEATHERMAP_API_KEY"
      ]
    },
    {
      "cell_type": "code",
      "execution_count": 3,
      "metadata": {
        "id": "rF2S2Ug3T7LC"
      },
      "outputs": [],
      "source": [
        "GEMINI_MODEL='gemini-1.5-flash'"
      ]
    },
    {
      "cell_type": "code",
      "execution_count": 4,
      "metadata": {
        "id": "oBzeHE8BT4TH"
      },
      "outputs": [],
      "source": [
        "llm = ChatGoogleGenerativeAI(google_api_key=GOOGLE_API_KEY, model=GEMINI_MODEL, temperature=0.3)"
      ]
    },
    {
      "cell_type": "code",
      "execution_count": 6,
      "metadata": {},
      "outputs": [],
      "source": [
        "# state\n",
        "class State(TypedDict):\n",
        "  \"\"\"\n",
        "  A dictionnary representing the state of the agent.\n",
        "  \"\"\"\n",
        "  messages: Annotated[list, add_messages]\n",
        "  trip_data: dict"
      ]
    },
    {
      "cell_type": "code",
      "execution_count": 7,
      "metadata": {},
      "outputs": [],
      "source": [
        "@tool\n",
        "def local_files_browser(tool_call_id: Annotated[str, InjectedToolCallId]) -> str:\n",
        "  \"\"\"\n",
        "  tool to list the local schedule files.\n",
        "  args:none\n",
        "  \"\"\"\n",
        "  mypath=f'schedules/'\n",
        "  onlyfiles = [f for f in listdir(mypath) if isfile(join(mypath, f))]\n",
        "  if not onlyfiles:\n",
        "    return Command(update={'messages':[ToolMessage(f'No files are available, try to upload one',tool_call_id=tool_call_id)]})\n",
        "  else:\n",
        "    return Command(update={'messages':[ToolMessage(f'Here are the available schedules: {onlyfiles}',tool_call_id=tool_call_id)]})"
      ]
    },
    {
      "cell_type": "code",
      "execution_count": null,
      "metadata": {},
      "outputs": [],
      "source": [
        "@tool\n",
        "def schedule_loader(tool_call_id: Annotated[str, InjectedToolCallId],state: Annotated[dict, InjectedState],filename: str) -> str:\n",
        "  \"\"\"\n",
        "  Use this tool to load the schedule from local directory, which is a text file.\n",
        "  args: filename - the name of the file, include the extention.\n",
        "  \"\"\"\n",
        "  try:\n",
        "    with open(f'schedules/{filename}', 'rb') as f:\n",
        "      schedule=f.read()\n",
        "      result=llm.invoke(f'format this schedule: {str(schedule)} into a json format in the output, do not include ```json```, do not include comments either')\n",
        "      return Command(update={'trip_data':ast.literal_eval(result.content),\n",
        "              'messages': [ToolMessage('Succesfully uploaded schedule',tool_call_id=tool_call_id)]})\n",
        "  except:\n",
        "      return Command(update={'meessages':[ToolMessage('No Schedule please try a different filename, or include the extention eg. filename.txt',tool_call_id=tool_call_id)]},\n",
        "                     goto='local_files_browser')"
      ]
    },
    {
      "cell_type": "code",
      "execution_count": 9,
      "metadata": {
        "id": "YWqiaUE6eAOU"
      },
      "outputs": [],
      "source": [
        "@tool\n",
        "def schedule_creator(tool_call_id: Annotated[str, InjectedToolCallId], schedule:str)->str:\n",
        "  \"\"\"Tool to create or add a schedule from the chat with the agent\n",
        "  and then uses an llm to structure it.\n",
        "  args: schedule - the schedule from the chat\n",
        "  \"\"\"\n",
        "  \n",
        "  result=llm.invoke(f'format this schedule: {str(schedule)} into a json format in the output, do not include ```json```, do not include comments either')\n",
        "  return Command(update={'trip_data': ast.literal_eval(result.content),\n",
        "                          'messages':[ToolMessage(f'added a schedule from the chat{ast.literal_eval(result.content)}', tool_call_id=tool_call_id)\n",
        "                                      ]})\n",
        "\n"
      ]
    },
    {
      "cell_type": "code",
      "execution_count": 10,
      "metadata": {
        "id": "oOwE7WgDAKDF"
      },
      "outputs": [],
      "source": [
        "# initializing time and date tool\n",
        "\n",
        "#creating a schema\n",
        "class time_tool_schema(BaseModel):\n",
        "  continent: str = Field(description='continent')\n",
        "  city: str = Field(description='city')\n",
        "\n",
        "def date_time_tool(continent: str,city: str) -> str:\n",
        "  \"\"\"\n",
        "  tool to get the current date and time in a city.\n",
        "\n",
        "  \"\"\"\n",
        "  city=city.replace(' ','_')\n",
        "  query=continent+'/'+city\n",
        "  timezone = pytz.timezone(query)\n",
        "  # Get the current time in UTC, and then convert it to the Marrakech timezone\n",
        "  utc_now = datetime.now(pytz.utc)  # Get current time in UTC\n",
        "  localized_time = utc_now.astimezone(timezone)  # Convert to Marrakech time\n",
        "  time=localized_time.strftime('%Y-%m-%d %H:%M:%S')\n",
        "  return time\n",
        "\n",
        "current_date_time_tool=StructuredTool.from_function(name='current_date_time_tool', func=date_time_tool, description='To get the current date and time in any city',args_schema=time_tool_schema, return_direct=True)\n"
      ]
    },
    {
      "cell_type": "code",
      "execution_count": 11,
      "metadata": {
        "id": "9Ip0n4oNhRkj"
      },
      "outputs": [],
      "source": [
        "def google_image_search(query: str) -> str:\n",
        "  \"\"\"Search for images using Google Custom Search API\n",
        "  args: query\n",
        "  return: image url\n",
        "  \"\"\"\n",
        "  # Define the API endpoint for Google Custom Search\n",
        "  url = \"https://www.googleapis.com/customsearch/v1\"\n",
        "\n",
        "  params = {\n",
        "      \"q\": query,\n",
        "      \"cx\": pse,\n",
        "      \"key\": GOOGLE_API_KEY,\n",
        "      \"searchType\": \"image\",  # Search for images\n",
        "      \"num\": 1  # Number of results to fetch\n",
        "  }\n",
        "\n",
        "  # Make the request to the Google Custom Search API\n",
        "  response = requests.get(url, params=params)\n",
        "  data = response.json()\n",
        "\n",
        "  # Check if the response contains image results\n",
        "  if 'items' in data:\n",
        "      # Extract the first image result\n",
        "      image_url = data['items'][0]['link']\n",
        "      return image_url\n",
        "  else:\n",
        "      return \"Sorry, no images were found for your query.\"\n",
        "\n",
        "google_image_tool=Tool(name='google_image_tool', func=google_image_search, description='Use this tool to search for images using Google Custom Search API')"
      ]
    },
    {
      "cell_type": "code",
      "execution_count": 12,
      "metadata": {
        "id": "vs_LVzzeL8c8"
      },
      "outputs": [],
      "source": [
        "@tool\n",
        "def get_schedule(state: Annotated[dict, InjectedState])-> str:\n",
        "  \"\"\"\n",
        "  Use this tool to get the information about the schedule once it has been loaded.\n",
        "  args: none\n",
        "  return: schedule\n",
        "  \"\"\"\n",
        "  return state['trip_data']\n"
      ]
    },
    {
      "cell_type": "code",
      "execution_count": 13,
      "metadata": {
        "id": "HXuI3RsSj81B"
      },
      "outputs": [],
      "source": [
        "@tool\n",
        "def schedule_editor(query:str,state: Annotated[dict, InjectedState],tool_call_id: Annotated[str, InjectedToolCallId])-> str:\n",
        "  \"\"\"\n",
        "  Tool to edit the schedule.\n",
        "  Pass the query to the llm to edit the schedule.\n",
        "  args: query - the query to edit the schedule.\n",
        "  \"\"\"\n",
        "  file=state['trip_data']\n",
        "  result=llm.invoke(f'Edit this schedule: {str(file)} following the instructions in the query: {query}, and include the changes in the schedule, but do not mention them specifically, only include the updated schedule json format in the output, do not include ```json```, do not include comments either')\n",
        "  return Command(\n",
        "                 update={'trip_data':ast.literal_eval(result.content),\n",
        "                          'messages':[ToolMessage(f'edited the schedule with these changes:{ast.literal_eval(result.content)} ', tool_call_id=tool_call_id)\n",
        "                                      ]})"
      ]
    },
    {
      "cell_type": "code",
      "execution_count": 14,
      "metadata": {},
      "outputs": [],
      "source": [
        "@tool\n",
        "def save_schedule(state: Annotated[dict, InjectedState],tool_call_id: Annotated[str, InjectedToolCallId], filename: str) -> str:\n",
        "    \"\"\" \n",
        "    Tool to save the schedule with a specified filename.\n",
        "    agrs: filename the name of the file, no need to include the extentions of the file\n",
        "    \"\"\"\n",
        "    file= state['trip_data']\n",
        "    with open(f\"schedules/{filename}.txt\", \"w\") as f:\n",
        "        f.write(file)\n",
        "    return f'{filename} saved'"
      ]
    },
    {
      "cell_type": "code",
      "execution_count": 59,
      "metadata": {
        "colab": {
          "base_uri": "https://localhost:8080/",
          "height": 266
        },
        "id": "YIvUI8zkwtVw",
        "outputId": "c980b078-0f1d-4ca4-ea5e-839e2dd532e3"
      },
      "outputs": [],
      "source": [
        "# langgraph\n",
        "#loading tools\n",
        "class Schedule_agent:\n",
        "    def __init__(self):\n",
        "        self.agent=self._setup()\n",
        "    def _setup(self):\n",
        "        api_tools=load_tools(['openweathermap-api','wikipedia'])\n",
        "        langgraph_tools=[current_date_time_tool,google_image_tool,get_schedule,schedule_creator,local_files_browser, save_schedule, schedule_editor,schedule_loader]+api_tools\n",
        "\n",
        "\n",
        "\n",
        "        graph_builder = StateGraph(State)\n",
        "\n",
        "        # Modification: tell the LLM which tools it can call\n",
        "        llm_with_tools = llm.bind_tools(langgraph_tools)\n",
        "        tool_node = ToolNode(tools=langgraph_tools)\n",
        "        def chatbot(state: State):\n",
        "            \"\"\" travel assistant that answers user questions about their trip.\n",
        "            Depending on the request, leverage which tools to use if necessary.\"\"\"\n",
        "            return {\"messages\": [llm_with_tools.invoke(state['messages'])]}\n",
        "\n",
        "        graph_builder.add_node(\"chatbot\", chatbot)\n",
        "\n",
        "\n",
        "        graph_builder.add_node(\"tools\", tool_node)\n",
        "        # Any time a tool is called, we return to the chatbot to decide the next step\n",
        "        graph_builder.set_entry_point(\"chatbot\")\n",
        "        graph_builder.add_edge(\"tools\", \"chatbot\")\n",
        "        graph_builder.add_conditional_edges(\n",
        "            \"chatbot\",\n",
        "            tools_condition,\n",
        "        )\n",
        "        memory=MemorySaver()\n",
        "        graph=graph_builder.compile(checkpointer=memory)\n",
        "        return graph\n",
        "        \n",
        "\n",
        "    def display_graph(self):\n",
        "        return display(\n",
        "                        Image(\n",
        "                                self.agent.get_graph().draw_mermaid_png(\n",
        "                                    draw_method=MermaidDrawMethod.API,\n",
        "                                )\n",
        "                            )\n",
        "                        )\n",
        "    def stream(self,input:str):\n",
        "        config = {\"configurable\": {\"thread_id\": \"1\"}}\n",
        "        input_message = HumanMessage(content=input)\n",
        "        for event in self.agent.stream({\"messages\": [input_message]}, config, stream_mode=\"values\"):\n",
        "            event[\"messages\"][-1].pretty_print()\n",
        "\n",
        "    def chatbot(self,input:str):\n",
        "        config = {\"configurable\": {\"thread_id\": \"1\"}}\n",
        "        response=self.agent.invoke({'messages':HumanMessage(content=str(input))},config)\n",
        "        return response['messages'][-1].content\n"
      ]
    },
    {
      "cell_type": "code",
      "execution_count": 60,
      "metadata": {},
      "outputs": [],
      "source": [
        "agent=Schedule_agent()"
      ]
    },
    {
      "cell_type": "code",
      "execution_count": 57,
      "metadata": {},
      "outputs": [
        {
          "data": {
            "image/png": "[encoded data removed]",
            "text/plain": [
              "<IPython.core.display.Image object>"
            ]
          },
          "metadata": {},
          "output_type": "display_data"
        }
      ],
      "source": [
        "agent.display_graph()"
      ]
    },
    {
      "cell_type": "code",
      "execution_count": 53,
      "metadata": {},
      "outputs": [],
      "source": [
        "\n",
        "from werkzeug.serving import run_simple"
      ]
    },
    {
      "cell_type": "code",
      "execution_count": 49,
      "metadata": {
        "colab": {
          "base_uri": "https://localhost:8080/"
        },
        "id": "FXytRSGvNKSi",
        "outputId": "bcf15961-80a8-408e-964d-c9201882e299"
      },
      "outputs": [
        {
          "name": "stderr",
          "output_type": "stream",
          "text": [
            "WARNING: This is a development server. Do not use it in a production deployment. Use a production WSGI server instead.\n",
            " * Running on http://localhost:9000\n",
            "Press CTRL+C to quit\n",
            "127.0.0.1 - - [07/Feb/2025 00:13:52] \"GET / HTTP/1.1\" 200 -\n",
            "127.0.0.1 - - [07/Feb/2025 00:14:03] \"GET /get?msg=how%20are%20you? HTTP/1.1\" 200 -\n"
          ]
        }
      ],
      "source": [
        "app = Flask(__name__)\n",
        "@app.route(\"/\")\n",
        "def home():    \n",
        "    return render_template(\"index.html\")\n",
        "@app.route(\"/get\")\n",
        "def get_bot_response():    \n",
        "    userText = request.args.get('msg')  \n",
        "    response = agent.chatbot(userText)  \n",
        "    #return str(bot.get_response(userText)) \n",
        "    return response\n",
        "\n",
        "if __name__ == \"__main__\":\n",
        "   run_simple('localhost', 9000, app)\n"
      ]
    }
  ],
  "metadata": {
    "colab": {
      "include_colab_link": true,
      "provenance": []
    },
    "kernelspec": {
      "display_name": "localllm",
      "language": "python",
      "name": "python3"
    },
    "language_info": {
      "codemirror_mode": {
        "name": "ipython",
        "version": 3
      },
      "file_extension": ".py",
      "mimetype": "text/x-python",
      "name": "python",
      "nbconvert_exporter": "python",
      "pygments_lexer": "ipython3",
      "version": "3.12.3"
    }
  },
  "nbformat": 4,
  "nbformat_minor": 0
}
