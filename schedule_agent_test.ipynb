{
  "cells": [
    {
      "cell_type": "code",
      "execution_count": 1,
      "metadata": {
        "id": "d1mjWNd_6_N9"
      },
      "outputs": [
        {
          "data": {
            "text/plain": [
              "True"
            ]
          },
          "execution_count": 1,
          "metadata": {},
          "output_type": "execute_result"
        }
      ],
      "source": [
        "import pandas as pd\n",
        "from langchain_google_genai import ChatGoogleGenerativeAI\n",
        "from langchain.agents import initialize_agent, load_tools\n",
        "from langchain.tools import Tool,tool,StructuredTool\n",
        "from langchain.prompts import PromptTemplate\n",
        "from langgraph.graph import StateGraph, START, END\n",
        "from langgraph.graph.message import add_messages\n",
        "from langgraph.prebuilt import ToolNode, tools_condition,InjectedState\n",
        "from langchain_core.messages import (\n",
        "    SystemMessage,\n",
        "    HumanMessage,\n",
        "    AIMessage,\n",
        "    ToolMessage,\n",
        "    RemoveMessage\n",
        ")\n",
        "from langgraph.types import Command, interrupt\n",
        "from langgraph.checkpoint.memory import MemorySaver\n",
        "from langchain_core.tools.base import InjectedToolCallId\n",
        "\n",
        "\n",
        "#structuring\n",
        "import ast\n",
        "from langchain_core.output_parsers import JsonOutputParser\n",
        "#error handling with output parser\n",
        "from langchain.output_parsers import RetryOutputParser\n",
        "\n",
        "from dataclasses import dataclass\n",
        "from typing_extensions import TypedDict\n",
        "from typing import Annotated, Literal\n",
        "from pydantic import BaseModel, Field\n",
        "#get graph visuals\n",
        "from IPython.display import Image, display\n",
        "from langchain_core.runnables.graph import CurveStyle, MermaidDrawMethod, NodeStyles\n",
        "\n",
        "import pytz\n",
        "from datetime import datetime\n",
        "import os\n",
        "import requests\n",
        "import json\n",
        "from dotenv import load_dotenv \n",
        "from os import listdir\n",
        "from os.path import isfile, join\n",
        "\n",
        "\n",
        "# flask-san\n",
        "\n",
        "\n",
        "load_dotenv()"
      ]
    },
    {
      "cell_type": "code",
      "execution_count": 2,
      "metadata": {
        "id": "AskZSfPY7DSm"
      },
      "outputs": [],
      "source": [
        "GOOGLE_API_KEY=os.getenv('google_api_key')\n"
      ]
    },
    {
      "cell_type": "code",
      "execution_count": 3,
      "metadata": {
        "id": "rF2S2Ug3T7LC"
      },
      "outputs": [],
      "source": [
        "GEMINI_MODEL='gemini-2.0-flash'"
      ]
    },
    {
      "cell_type": "code",
      "execution_count": 4,
      "metadata": {
        "id": "oBzeHE8BT4TH"
      },
      "outputs": [],
      "source": [
        "llm = ChatGoogleGenerativeAI(google_api_key=GOOGLE_API_KEY, model=GEMINI_MODEL, temperature=0.3)"
      ]
    },
    {
      "cell_type": "code",
      "execution_count": 5,
      "metadata": {},
      "outputs": [],
      "source": [
        "# state\n",
        "class State(TypedDict):\n",
        "  \"\"\"\n",
        "  A dictionnary representing the state of the agent.\n",
        "  \"\"\"\n",
        "  node_message: str\n",
        "  trip_data: dict\n",
        "  query: str\n",
        "  route:str"
      ]
    },
    {
      "cell_type": "code",
      "execution_count": null,
      "metadata": {
        "id": "YWqiaUE6eAOU"
      },
      "outputs": [],
      "source": [
        "\n",
        "class llm_nodes:\n",
        "\n",
        "  def __init__(self, llm:any):\n",
        "     self.model=llm\n",
        "  def schedule_creator_node(self,state:State):\n",
        "    llm=self.model\n",
        "    parser = JsonOutputParser()\n",
        "    prompt = PromptTemplate(\n",
        "    template=\"Answer the user query.\\n{format_instructions}\\n{query}\\n\",\n",
        "    input_variables=[\"query\"],\n",
        "    partial_variables={\"format_instructions\": parser.get_format_instructions()},\n",
        "    )\n",
        "\n",
        "    chain = prompt | llm\n",
        "    result=chain.invoke({\"query\": f'from this query: {state.get('query')} turn the data into a schedule into a json format in the output, do not include ```json```, do not include comments either'})\n",
        "    try:\n",
        "\n",
        "          result=parser.parse(result.content)\n",
        "          return {'trip_data':result,\n",
        "                  'node_message':result}\n",
        "    except:\n",
        "        try: \n",
        "          retry_parser = RetryOutputParser.from_llm(parser=parser, llm=llm)\n",
        "          result=retry_parser.parse_with_prompt(result.content, prompt)\n",
        "          return {'trip_data':result,\n",
        "                  'node_message':result}\n",
        "        except:\n",
        "          return {'trip_data':result.content,\n",
        "                        'node_message': f'created the schedule:{result.content}, but formating failed '}\n",
        "        \n",
        "\n",
        "\n",
        "  def schedule_editor_node(self,state:State):\n",
        "    \"\"\"\n",
        "    Tool to make modifications to the schedule such as add, delete or modify.\n",
        "    Pass the query to the llm to edit the schedule.\n",
        "    args: query - the query to edit the schedule.\n",
        "    return: modified schedule in a json format\n",
        "    \"\"\"\n",
        "    llm=self.model\n",
        "    file=state['trip_data']\n",
        "    # result=llm.invoke(f'Edit this schedule: {str(file)} following the instructions in the query: {query}, and include the changes in the schedule, but do not mention them specifically, only include the updated schedule json format in the output, do not include ```json```, do not include comments either')\n",
        "    parser = JsonOutputParser()\n",
        "    prompt = PromptTemplate(\n",
        "    template=\"Answer the user query.\\n{format_instructions}\\n{query}\\n\",\n",
        "    input_variables=[\"query\"],\n",
        "    partial_variables={\"format_instructions\": parser.get_format_instructions()},\n",
        "    )\n",
        "\n",
        "    chain = prompt | llm\n",
        "    result=chain.invoke({\"query\":  f'Edit this schedule: {str(file)} following the instructions in the query: {state.get('query')}, and include the changes in the schedule, but do not mention them specifically, only include the updated schedule json format in the output, do not include ```json```, do not include comments either'})\n",
        "    try:\n",
        "          \n",
        "          result=parser.parse(result.content)\n",
        "          return {'trip_data':result,\n",
        "                  'node_message': f'edited the schedule with these changes:{result}'}\n",
        "    except:\n",
        "        try: \n",
        "          retry_parser = RetryOutputParser.from_llm(parser=parser, llm=llm)\n",
        "          result=retry_parser.parse_with_prompt(result.content, prompt)\n",
        "          return {'trip_data':result,\n",
        "                  'node_message': f'edited the schedule with these changes:{result}'}\n",
        "        except:\n",
        "          return {'trip_data':result.content,\n",
        "                        'node_message': f'edited the schedule with these changes:{result}, but formating failed '}\n",
        "        \n",
        "        \n",
        "  def agent_node(self,state:State):\n",
        "      llm=self.model\n",
        "      class Form(BaseModel):\n",
        "          route: str = Field(description= 'Return one of: schedule_creator, schedule_editor, show_schedule')\n",
        "          \n",
        "      parser=JsonOutputParser(pydantic_object=Form)\n",
        "      instruction=parser.get_format_instructions()\n",
        "      response=llm.invoke([HumanMessage(content=f\"Based on this query: {state['query']}, select the appropriate route. Options are: schedule_creator, schedule_editor, show_schedule\\n\\n{instruction}\")])\n",
        "      response=parser.parse(response.content)\n",
        "      route=response.get('route')\n",
        "\n",
        "      return {'route':route}\n",
        "  \n",
        "  def show_schedule_node(self,state: State):\n",
        "    \"\"\"\n",
        "    Use this tool to get the information about the schedule once it has been loaded.\n",
        "    args: none\n",
        "    return: schedule\n",
        "    \"\"\"\n",
        "    schedule=state.get('trip_data')\n",
        "    if schedule:\n",
        "      return {\"node_message\":schedule}\n",
        "    else:\n",
        "       return{\"node_message\":\"no schedule found, please upload one or add it in the chat\"}\n",
        "    \n",
        "\n"
      ]
    },
    {
      "cell_type": "code",
      "execution_count": 7,
      "metadata": {},
      "outputs": [],
      "source": [
        "def route(state:State):\n",
        "    route=state.get('route')\n",
        "    routing_map={\n",
        "    'schedule_creator': 'to_schedule_creator',\n",
        "    'schedule_editor': 'to_schedule_editor',\n",
        "    'show_schedule': 'to_show_schedule'\n",
        "    }\n",
        "    return routing_map.get(route)"
      ]
    },
    {
      "cell_type": "code",
      "execution_count": 8,
      "metadata": {
        "colab": {
          "base_uri": "https://localhost:8080/",
          "height": 266
        },
        "id": "YIvUI8zkwtVw",
        "outputId": "c980b078-0f1d-4ca4-ea5e-839e2dd532e3"
      },
      "outputs": [],
      "source": [
        "# langgraph\n",
        "#loading tools\n",
        "class Schedule_agent:\n",
        "    def __init__(self, llm:any):\n",
        "        self.agent=self._setup(llm)\n",
        "    def _setup(self,llm):\n",
        "        nodes=llm_nodes(llm)\n",
        "   \n",
        "\n",
        "        graph_builder = StateGraph(State)\n",
        "\n",
        "\n",
        "        graph_builder.add_node(\"agent\",nodes.agent_node)\n",
        "\n",
        "\n",
        "        graph_builder.add_node('schedule_creator', nodes.schedule_creator_node)\n",
        "        graph_builder.add_node('schedule_editor', nodes.schedule_editor_node)\n",
        "        graph_builder.add_node('show_schedule',nodes.show_schedule_node)\n",
        "        # Any time a tool is called, we return to the chatbot to decide the next step\n",
        "        graph_builder.set_entry_point(\"agent\")\n",
        "        graph_builder.add_conditional_edges(\n",
        "            \"agent\",\n",
        "            route,{\n",
        "                'to_schedule_creator': 'schedule_creator',\n",
        "                'to_schedule_editor': 'schedule_editor',\n",
        "                'to_show_schedule': 'show_schedule'\n",
        "            }\n",
        "        )\n",
        "        graph_builder.add_edge('schedule_creator',END)\n",
        "        graph_builder.add_edge('schedule_editor',END)\n",
        "        graph_builder.add_edge('show_schedule',END)\n",
        "        memory=MemorySaver()\n",
        "        graph=graph_builder.compile(checkpointer=memory)\n",
        "        return graph\n",
        "        \n",
        "\n",
        "    def display_graph(self):\n",
        "        return display(\n",
        "                        Image(\n",
        "                                self.agent.get_graph().draw_mermaid_png(\n",
        "                                    draw_method=MermaidDrawMethod.API,\n",
        "                                )\n",
        "                            )\n",
        "                        )\n",
        "    def chat(self,input:str):\n",
        "        config = {\"configurable\": {\"thread_id\": \"1\"}}\n",
        "        response=self.agent.invoke({'query':input\n",
        "                                    },config)\n",
        "        return response\n",
        "\n",
        "    def stream(self,input:str):\n",
        "        config = {\"configurable\": {\"thread_id\": \"1\"}}\n",
        "        for event in self.agent.stream({'query':input\n",
        "                                        }, config, stream_mode=\"updates\"):\n",
        "            print(event)\n",
        "    \n",
        "    def get_state(self, state_val:str):\n",
        "        config = {\"configurable\": {\"thread_id\": \"1\"}}\n",
        "        return self.agent.get_state(config).values[state_val]\n",
        "    \n",
        "    def update_state(self, data: dict):\n",
        "        config = {\"configurable\": {\"thread_id\": \"1\"}}\n",
        "        return self.agent.update_state(config, data)\n"
      ]
    },
    {
      "cell_type": "code",
      "execution_count": 9,
      "metadata": {},
      "outputs": [],
      "source": [
        "agent=Schedule_agent(llm)"
      ]
    },
    {
      "cell_type": "code",
      "execution_count": 10,
      "metadata": {},
      "outputs": [
        {
          "data": {
            "image/png": "[encoded data removed]",
            "text/plain": [
              "<IPython.core.display.Image object>"
            ]
          },
          "metadata": {},
          "output_type": "display_data"
        }
      ],
      "source": [
        "agent.display_graph()"
      ]
    },
    {
      "cell_type": "code",
      "execution_count": 11,
      "metadata": {},
      "outputs": [
        {
          "name": "stdout",
          "output_type": "stream",
          "text": [
            "{'agent': {'route': 'schedule_creator'}}\n",
            "{'schedule_creator': {'trip_data': {'schedule': {'monday': {'10:00 AM': 'gym', '10:00 PM': 'sleep'}, 'tuesday': {'9:00 AM': 'wake tf up', '10:00 PM': 'slleepy'}}}, 'node_message': {'schedule': {'monday': {'10:00 AM': 'gym', '10:00 PM': 'sleep'}, 'tuesday': {'9:00 AM': 'wake tf up', '10:00 PM': 'slleepy'}}}}}\n"
          ]
        }
      ],
      "source": [
        "\n",
        "agent.stream('create a schedule for:  monday: 10 am: gym, 10pm: sleep, tuesday: 9 am: wake tf up, 10pm : slleepy ')"
      ]
    },
    {
      "cell_type": "code",
      "execution_count": 12,
      "metadata": {},
      "outputs": [
        {
          "ename": "KeyError",
          "evalue": "'messages'",
          "output_type": "error",
          "traceback": [
            "\u001b[1;31m---------------------------------------------------------------------------\u001b[0m",
            "\u001b[1;31mKeyError\u001b[0m                                  Traceback (most recent call last)",
            "Cell \u001b[1;32mIn[12], line 1\u001b[0m\n\u001b[1;32m----> 1\u001b[0m \u001b[43magent\u001b[49m\u001b[38;5;241;43m.\u001b[39;49m\u001b[43mget_state\u001b[49m\u001b[43m(\u001b[49m\u001b[38;5;124;43m'\u001b[39;49m\u001b[38;5;124;43mmessages\u001b[39;49m\u001b[38;5;124;43m'\u001b[39;49m\u001b[43m)\u001b[49m\n",
            "Cell \u001b[1;32mIn[8], line 59\u001b[0m, in \u001b[0;36mSchedule_agent.get_state\u001b[1;34m(self, state_val)\u001b[0m\n\u001b[0;32m     57\u001b[0m \u001b[38;5;28;01mdef\u001b[39;00m\u001b[38;5;250m \u001b[39m\u001b[38;5;21mget_state\u001b[39m(\u001b[38;5;28mself\u001b[39m, state_val:\u001b[38;5;28mstr\u001b[39m):\n\u001b[0;32m     58\u001b[0m     config \u001b[38;5;241m=\u001b[39m {\u001b[38;5;124m\"\u001b[39m\u001b[38;5;124mconfigurable\u001b[39m\u001b[38;5;124m\"\u001b[39m: {\u001b[38;5;124m\"\u001b[39m\u001b[38;5;124mthread_id\u001b[39m\u001b[38;5;124m\"\u001b[39m: \u001b[38;5;124m\"\u001b[39m\u001b[38;5;124m1\u001b[39m\u001b[38;5;124m\"\u001b[39m}}\n\u001b[1;32m---> 59\u001b[0m     \u001b[38;5;28;01mreturn\u001b[39;00m \u001b[38;5;28;43mself\u001b[39;49m\u001b[38;5;241;43m.\u001b[39;49m\u001b[43magent\u001b[49m\u001b[38;5;241;43m.\u001b[39;49m\u001b[43mget_state\u001b[49m\u001b[43m(\u001b[49m\u001b[43mconfig\u001b[49m\u001b[43m)\u001b[49m\u001b[38;5;241;43m.\u001b[39;49m\u001b[43mvalues\u001b[49m\u001b[43m[\u001b[49m\u001b[43mstate_val\u001b[49m\u001b[43m]\u001b[49m\n",
            "\u001b[1;31mKeyError\u001b[0m: 'messages'"
          ]
        }
      ],
      "source": [
        "agent.get_state('messages')"
      ]
    }
  ],
  "metadata": {
    "colab": {
      "include_colab_link": true,
      "provenance": []
    },
    "kernelspec": {
      "display_name": ".venv",
      "language": "python",
      "name": "python3"
    },
    "language_info": {
      "codemirror_mode": {
        "name": "ipython",
        "version": 3
      },
      "file_extension": ".py",
      "mimetype": "text/x-python",
      "name": "python",
      "nbconvert_exporter": "python",
      "pygments_lexer": "ipython3",
      "version": "3.13.2"
    }
  },
  "nbformat": 4,
  "nbformat_minor": 0
}
